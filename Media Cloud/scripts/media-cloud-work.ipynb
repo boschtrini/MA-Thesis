{
 "cells": [
  {
   "cell_type": "code",
   "execution_count": 1,
   "id": "1f7576f7-8dba-4ca9-b0f4-581b05812613",
   "metadata": {},
   "outputs": [],
   "source": [
    "import pandas as pd\n",
    "import os\n",
    "import matplotlib.pyplot as plt"
   ]
  },
  {
   "cell_type": "code",
   "execution_count": 3,
   "id": "3ee340e4-34fc-4c57-be94-e620e87c61d5",
   "metadata": {},
   "outputs": [
    {
     "data": {
      "text/plain": [
       "'/Users/trinidadbosch/Desktop/SEDS/Tesis/Data/MA-Thesis/Media Cloud/scripts'"
      ]
     },
     "execution_count": 3,
     "metadata": {},
     "output_type": "execute_result"
    }
   ],
   "source": [
    "%pwd"
   ]
  },
  {
   "cell_type": "code",
   "execution_count": 2,
   "id": "cc0af0e1-429d-40e9-a09b-e0f54ad658bf",
   "metadata": {},
   "outputs": [],
   "source": [
    "news = pd.read_csv('/Users/trinidadbosch/Desktop/SEDS/Tesis/Data/MA-Thesis/Media Cloud/Data/scraped_news.csv')\n",
    "urls = pd.read_pickle('/Users/trinidadbosch/Desktop/SEDS/Tesis/Data/MA-Thesis/Media Cloud/Data/media_urls.pkl')"
   ]
  },
  {
   "cell_type": "code",
   "execution_count": 3,
   "id": "694eafe4-d976-4c9a-ba64-52e52450a10e",
   "metadata": {
    "collapsed": true,
    "jupyter": {
     "outputs_hidden": true
    },
    "tags": []
   },
   "outputs": [
    {
     "data": {
      "text/html": [
       "<div>\n",
       "<style scoped>\n",
       "    .dataframe tbody tr th:only-of-type {\n",
       "        vertical-align: middle;\n",
       "    }\n",
       "\n",
       "    .dataframe tbody tr th {\n",
       "        vertical-align: top;\n",
       "    }\n",
       "\n",
       "    .dataframe thead th {\n",
       "        text-align: right;\n",
       "    }\n",
       "</style>\n",
       "<table border=\"1\" class=\"dataframe\">\n",
       "  <thead>\n",
       "    <tr style=\"text-align: right;\">\n",
       "      <th></th>\n",
       "      <th>ap_syndicated</th>\n",
       "      <th>collect_date</th>\n",
       "      <th>feeds</th>\n",
       "      <th>guid</th>\n",
       "      <th>language</th>\n",
       "      <th>media_id</th>\n",
       "      <th>media_name</th>\n",
       "      <th>media_url</th>\n",
       "      <th>metadata</th>\n",
       "      <th>processed_stories_id</th>\n",
       "      <th>publish_date</th>\n",
       "      <th>stories_id</th>\n",
       "      <th>story_tags</th>\n",
       "      <th>title</th>\n",
       "      <th>url</th>\n",
       "      <th>word_count</th>\n",
       "    </tr>\n",
       "  </thead>\n",
       "  <tbody>\n",
       "    <tr>\n",
       "      <th>0</th>\n",
       "      <td>False</td>\n",
       "      <td>2021-02-01 11:29:05.575011</td>\n",
       "      <td>NaN</td>\n",
       "      <td>https://news.mongabay.com/2021/02/eye-in-the-s...</td>\n",
       "      <td>en</td>\n",
       "      <td>19317</td>\n",
       "      <td>Mongabay</td>\n",
       "      <td>https://news.mongabay.com/</td>\n",
       "      <td>{'date_guess_method': None, 'extractor_version...</td>\n",
       "      <td>2248100280</td>\n",
       "      <td>2021-02-01 03:11:18</td>\n",
       "      <td>1838925040</td>\n",
       "      <td>[]</td>\n",
       "      <td>Eye in the Sky: Tech makes satellite imagery i...</td>\n",
       "      <td>https://news.mongabay.com/2021/02/eye-in-the-s...</td>\n",
       "      <td>NaN</td>\n",
       "    </tr>\n",
       "    <tr>\n",
       "      <th>1</th>\n",
       "      <td>False</td>\n",
       "      <td>2021-02-01 13:30:32.746109</td>\n",
       "      <td>NaN</td>\n",
       "      <td>106833338</td>\n",
       "      <td>en</td>\n",
       "      <td>1755</td>\n",
       "      <td>CNBC</td>\n",
       "      <td>http://www.cnbc.com/</td>\n",
       "      <td>{'date_guess_method': None, 'extractor_version...</td>\n",
       "      <td>2248130305</td>\n",
       "      <td>2021-02-01 13:28:31</td>\n",
       "      <td>1839017422</td>\n",
       "      <td>[]</td>\n",
       "      <td>Amazon, Alphabet and Salesforce are all invest...</td>\n",
       "      <td>https://www.cnbc.com/2021/02/01/amazon-alphabe...</td>\n",
       "      <td>NaN</td>\n",
       "    </tr>\n",
       "    <tr>\n",
       "      <th>2</th>\n",
       "      <td>False</td>\n",
       "      <td>2021-02-01 13:24:21.419836</td>\n",
       "      <td>NaN</td>\n",
       "      <td>19412429 at https://www.benzinga.com</td>\n",
       "      <td>en</td>\n",
       "      <td>22041</td>\n",
       "      <td>Benzinga</td>\n",
       "      <td>http://www.benzinga.com</td>\n",
       "      <td>{'date_guess_method': None, 'extractor_version...</td>\n",
       "      <td>2248176595</td>\n",
       "      <td>2021-02-01 13:17:36</td>\n",
       "      <td>1839009079</td>\n",
       "      <td>[]</td>\n",
       "      <td>15 Big Ideas In 'Disruptive Innovation' Accord...</td>\n",
       "      <td>http://feeds.benzinga.com/~r/benzinga/~3/JWduJ...</td>\n",
       "      <td>NaN</td>\n",
       "    </tr>\n",
       "    <tr>\n",
       "      <th>3</th>\n",
       "      <td>False</td>\n",
       "      <td>2021-02-01 11:22:41.615668</td>\n",
       "      <td>NaN</td>\n",
       "      <td>https://eurweb.com/?p=873530</td>\n",
       "      <td>en</td>\n",
       "      <td>25336</td>\n",
       "      <td>eurweb</td>\n",
       "      <td>http://www.eurweb.com</td>\n",
       "      <td>{'date_guess_method': None, 'extractor_version...</td>\n",
       "      <td>2248202709</td>\n",
       "      <td>2021-02-01 02:05:19</td>\n",
       "      <td>1838767296</td>\n",
       "      <td>[]</td>\n",
       "      <td>Black Creators At Sundance 2021</td>\n",
       "      <td>https://eurweb.com/2021/01/31/black-creators-a...</td>\n",
       "      <td>NaN</td>\n",
       "    </tr>\n",
       "    <tr>\n",
       "      <th>4</th>\n",
       "      <td>False</td>\n",
       "      <td>2021-02-01 14:26:32.665619</td>\n",
       "      <td>NaN</td>\n",
       "      <td>19427358 at https://www.benzinga.com</td>\n",
       "      <td>en</td>\n",
       "      <td>22041</td>\n",
       "      <td>Benzinga</td>\n",
       "      <td>http://www.benzinga.com</td>\n",
       "      <td>{'date_guess_method': None, 'extractor_version...</td>\n",
       "      <td>2248281055</td>\n",
       "      <td>2021-02-01 14:07:26</td>\n",
       "      <td>1839090241</td>\n",
       "      <td>[]</td>\n",
       "      <td>Why Bill.com's Stock Is Trading Higher Today</td>\n",
       "      <td>http://feeds.benzinga.com/~r/benzinga/~3/y-hmu...</td>\n",
       "      <td>NaN</td>\n",
       "    </tr>\n",
       "  </tbody>\n",
       "</table>\n",
       "</div>"
      ],
      "text/plain": [
       "   ap_syndicated                collect_date  feeds  \\\n",
       "0          False  2021-02-01 11:29:05.575011    NaN   \n",
       "1          False  2021-02-01 13:30:32.746109    NaN   \n",
       "2          False  2021-02-01 13:24:21.419836    NaN   \n",
       "3          False  2021-02-01 11:22:41.615668    NaN   \n",
       "4          False  2021-02-01 14:26:32.665619    NaN   \n",
       "\n",
       "                                                guid language  media_id  \\\n",
       "0  https://news.mongabay.com/2021/02/eye-in-the-s...       en     19317   \n",
       "1                                          106833338       en      1755   \n",
       "2               19412429 at https://www.benzinga.com       en     22041   \n",
       "3                       https://eurweb.com/?p=873530       en     25336   \n",
       "4               19427358 at https://www.benzinga.com       en     22041   \n",
       "\n",
       "  media_name                   media_url  \\\n",
       "0   Mongabay  https://news.mongabay.com/   \n",
       "1       CNBC        http://www.cnbc.com/   \n",
       "2   Benzinga     http://www.benzinga.com   \n",
       "3     eurweb       http://www.eurweb.com   \n",
       "4   Benzinga     http://www.benzinga.com   \n",
       "\n",
       "                                            metadata  processed_stories_id  \\\n",
       "0  {'date_guess_method': None, 'extractor_version...            2248100280   \n",
       "1  {'date_guess_method': None, 'extractor_version...            2248130305   \n",
       "2  {'date_guess_method': None, 'extractor_version...            2248176595   \n",
       "3  {'date_guess_method': None, 'extractor_version...            2248202709   \n",
       "4  {'date_guess_method': None, 'extractor_version...            2248281055   \n",
       "\n",
       "          publish_date  stories_id story_tags  \\\n",
       "0  2021-02-01 03:11:18  1838925040         []   \n",
       "1  2021-02-01 13:28:31  1839017422         []   \n",
       "2  2021-02-01 13:17:36  1839009079         []   \n",
       "3  2021-02-01 02:05:19  1838767296         []   \n",
       "4  2021-02-01 14:07:26  1839090241         []   \n",
       "\n",
       "                                               title  \\\n",
       "0  Eye in the Sky: Tech makes satellite imagery i...   \n",
       "1  Amazon, Alphabet and Salesforce are all invest...   \n",
       "2  15 Big Ideas In 'Disruptive Innovation' Accord...   \n",
       "3                    Black Creators At Sundance 2021   \n",
       "4       Why Bill.com's Stock Is Trading Higher Today   \n",
       "\n",
       "                                                 url  word_count  \n",
       "0  https://news.mongabay.com/2021/02/eye-in-the-s...         NaN  \n",
       "1  https://www.cnbc.com/2021/02/01/amazon-alphabe...         NaN  \n",
       "2  http://feeds.benzinga.com/~r/benzinga/~3/JWduJ...         NaN  \n",
       "3  https://eurweb.com/2021/01/31/black-creators-a...         NaN  \n",
       "4  http://feeds.benzinga.com/~r/benzinga/~3/y-hmu...         NaN  "
      ]
     },
     "execution_count": 3,
     "metadata": {},
     "output_type": "execute_result"
    }
   ],
   "source": [
    "news.head()\n",
    "urls.head()"
   ]
  },
  {
   "cell_type": "markdown",
   "id": "0319e387-f5c9-4ae3-ac33-1bf315ec97bc",
   "metadata": {},
   "source": [
    "---\n",
    "## Looking for sites that blockes scraping\n",
    "    Body column with Nan means that the scrape was not successful"
   ]
  },
  {
   "cell_type": "code",
   "execution_count": 26,
   "id": "08d5d208-fa91-4ea0-84b8-9dab9b502731",
   "metadata": {},
   "outputs": [],
   "source": [
    "# Filter rows where 'Body' column contains NaN values\n",
    "nan_body_rows = news[news['Body'].isna()]\n",
    "# Filter rows where 'Body' column does not contain NaN values\n",
    "non_nan_body_rows = news[~news['Body'].isna()]"
   ]
  },
  {
   "cell_type": "code",
   "execution_count": 27,
   "id": "e902059d-bb0e-41e4-b699-7bb880907827",
   "metadata": {
    "tags": []
   },
   "outputs": [],
   "source": [
    "# Merge DataFrames on different ID columns\n",
    "merged_df_na = pd.merge(nan_body_rows, urls, left_on='ID', right_on='stories_id', how='left')\n",
    "\n",
    "# Merge DataFrames on different ID columns\n",
    "merged_df_no_na = pd.merge(non_nan_body_rows, urls, left_on='ID', right_on='stories_id', how='left')"
   ]
  },
  {
   "cell_type": "code",
   "execution_count": 14,
   "id": "b786652e-4088-4d55-b170-b7475a9b0515",
   "metadata": {},
   "outputs": [],
   "source": [
    "# Check if content of 'Name' column is the same as 'Age' column\n",
    "merged_df_na['equal_url'] = merged_df_na['URL'] == merged_df_na['url']"
   ]
  },
  {
   "cell_type": "code",
   "execution_count": 15,
   "id": "8e5f8628-ac35-4e94-85b4-98f8669a5dc9",
   "metadata": {},
   "outputs": [
    {
     "data": {
      "text/plain": [
       "equal_url\n",
       "True    127509\n",
       "Name: count, dtype: int64"
      ]
     },
     "execution_count": 15,
     "metadata": {},
     "output_type": "execute_result"
    }
   ],
   "source": [
    "merged_df_na['equal_url'].value_counts()"
   ]
  },
  {
   "cell_type": "code",
   "execution_count": 28,
   "id": "56d274e3-2f08-43c1-85bb-2281a5451166",
   "metadata": {},
   "outputs": [],
   "source": [
    "# Drop duplicates based on the 'URL' column in both no scraped and scraped news\n",
    "\n",
    "df_na_no_duplicates = merged_df_na.drop_duplicates(subset='URL')\n",
    "\n",
    "df_no_duplicates = merged_df_no_na.drop_duplicates(subset='URL')"
   ]
  },
  {
   "cell_type": "code",
   "execution_count": 29,
   "id": "be662e53-aceb-437f-90da-410a6f5050f3",
   "metadata": {},
   "outputs": [
    {
     "data": {
      "text/plain": [
       "Index(['ID', 'URL', 'Body', 'MetaData', 'Authors', 'Date', 'Title', 'Tags',\n",
       "       'MetaKeywords', 'Summary', 'Error', 'ap_syndicated', 'collect_date',\n",
       "       'feeds', 'guid', 'language', 'media_id', 'media_name', 'media_url',\n",
       "       'metadata', 'processed_stories_id', 'publish_date', 'stories_id',\n",
       "       'story_tags', 'title', 'url', 'word_count'],\n",
       "      dtype='object')"
      ]
     },
     "execution_count": 29,
     "metadata": {},
     "output_type": "execute_result"
    }
   ],
   "source": [
    "df_no_duplicates.columns"
   ]
  },
  {
   "cell_type": "code",
   "execution_count": 32,
   "id": "cf874974-2431-4807-a9b8-91c1f207d030",
   "metadata": {},
   "outputs": [],
   "source": [
    "no_scraped = df_na_no_duplicates.drop(columns=['MetaData','Authors', 'Date', 'Title', 'Tags',\n",
    "       'MetaKeywords', 'Summary','ap_syndicated', 'collect_date',\n",
    "       'feeds', 'guid', 'language', 'processed_stories_id', 'publish_date','word_count','url'])\n",
    "\n",
    "scraped = df_no_duplicates.drop(columns=['Error','ap_syndicated', 'collect_date',\n",
    "       'feeds', 'guid', 'language', 'media_id',\n",
    "       'metadata', 'processed_stories_id', 'stories_id',\n",
    "       'story_tags', 'title', 'url', 'word_count'])"
   ]
  },
  {
   "cell_type": "code",
   "execution_count": 34,
   "id": "b45411c8-2929-4057-8dfd-cdf233b06e2d",
   "metadata": {},
   "outputs": [
    {
     "data": {
      "image/png": "[encoded data removed]",
      "text/plain": [
       "<Figure size 864x576 with 1 Axes>"
      ]
     },
     "metadata": {
      "needs_background": "light"
     },
     "output_type": "display_data"
    }
   ],
   "source": [
    "# Get the counts of unique values in the 'media_name' column\n",
    "value_counts = no_scraped['media_name'].value_counts()\n",
    "\n",
    "# Select the top 50 values\n",
    "top_50_values = value_counts.head(50)\n",
    "\n",
    "# Set a larger figure size\n",
    "plt.figure(figsize=(12, 8))\n",
    "\n",
    "# Plot a bar chart with rotated x-axis labels\n",
    "plt.bar(top_50_values.index, top_50_values.values)\n",
    "plt.xticks(rotation=90, ha='right')  # Rotate x-axis labels for better readability\n",
    "\n",
    "# Add labels and title\n",
    "plt.xlabel('Media Name')\n",
    "plt.ylabel('Count')\n",
    "plt.title('Top 50 Media Outlets on Error Scrape')\n",
    "\n",
    "# Show the plot\n",
    "plt.tight_layout()  # Adjust layout to prevent clipping of labels\n",
    "plt.show()"
   ]
  },
  {
   "cell_type": "code",
   "execution_count": 35,
   "id": "afc64b5a-81a4-46b3-af05-c4e4088ec743",
   "metadata": {},
   "outputs": [
    {
     "data": {
      "image/png": "[encoded data removed]",
      "text/plain": [
       "<Figure size 864x576 with 1 Axes>"
      ]
     },
     "metadata": {
      "needs_background": "light"
     },
     "output_type": "display_data"
    }
   ],
   "source": [
    "# Get the counts of unique values in the 'media_name' column\n",
    "value_counts = scraped['media_name'].value_counts()\n",
    "\n",
    "# Select the top 50 values\n",
    "top_50_values = value_counts.head(50)\n",
    "\n",
    "# Set a larger figure size\n",
    "plt.figure(figsize=(12, 8))\n",
    "\n",
    "# Plot a bar chart with rotated x-axis labels\n",
    "plt.bar(top_50_values.index, top_50_values.values)\n",
    "plt.xticks(rotation=90, ha='right')  # Rotate x-axis labels for better readability\n",
    "\n",
    "# Add labels and title\n",
    "plt.xlabel('Media Name')\n",
    "plt.ylabel('Count')\n",
    "plt.title('Top 50 Media Outlets on Scraped News')\n",
    "\n",
    "# Show the plot\n",
    "plt.tight_layout()  # Adjust layout to prevent clipping of labels\n",
    "plt.show()"
   ]
  },
  {
   "cell_type": "code",
   "execution_count": 46,
   "id": "dee007a1-3fda-4b72-8a31-47b8a3d4e6ed",
   "metadata": {},
   "outputs": [],
   "source": [
    "# Count occurrences of each unique value in the 'media_url' column\n",
    "media_url_counts_na = no_scraped['media_name'].value_counts()\n",
    "media_url_counts_no_na = scraped['media_name'].value_counts()"
   ]
  },
  {
   "cell_type": "code",
   "execution_count": 47,
   "id": "37e1a038-2087-49ee-8327-95d0258e706d",
   "metadata": {},
   "outputs": [
    {
     "name": "stdout",
     "output_type": "stream",
     "text": [
      "Common Media URLs:\n"
     ]
    },
    {
     "data": {
      "text/plain": [
       "154"
      ]
     },
     "execution_count": 47,
     "metadata": {},
     "output_type": "execute_result"
    }
   ],
   "source": [
    "# Check if media_url values from media_url_counts_na are present in media_url_counts_no_na\n",
    "common_media_urls = media_url_counts_na.index[media_url_counts_na.index.isin(media_url_counts_no_na.index)]\n",
    "\n",
    "# Display common media_urls\n",
    "print(\"Common Media URLs:\")\n",
    "len(common_media_urls)"
   ]
  },
  {
   "cell_type": "code",
   "execution_count": 51,
   "id": "780fbe82-3f06-44d0-bbc6-f8310ef04a6d",
   "metadata": {},
   "outputs": [
    {
     "name": "stdout",
     "output_type": "stream",
     "text": [
      "Count for CNN: 458\n"
     ]
    }
   ],
   "source": [
    "# Specify the media_url you want to search for\n",
    "target_media_url = 'CNN'\n",
    "\n",
    "# Check if the media_url is in the counts\n",
    "if target_media_url in media_url_counts_no_na:\n",
    "    # Retrieve the count for the target media_url\n",
    "    count_for_target_media_url = media_url_counts_no_na.loc[target_media_url]\n",
    "    print(f\"Count for {target_media_url}: {count_for_target_media_url}\")\n",
    "else:\n",
    "    print(f\"{target_media_url} not found in the counts.\")"
   ]
  },
  {
   "cell_type": "code",
   "execution_count": 44,
   "id": "81c810bb-3f9e-4df4-9c78-f45483deb5ed",
   "metadata": {
    "collapsed": true,
    "jupyter": {
     "outputs_hidden": true
    },
    "tags": []
   },
   "outputs": [
    {
     "data": {
      "text/plain": [
       "media_name\n",
       "Upworthy                9575\n",
       "zdnet                   3647\n",
       "Business Insider        3264\n",
       "CNBC                    2882\n",
       "TechCrunch              2362\n",
       "                        ... \n",
       "Scout                      1\n",
       "houstonchronicle           1\n",
       "creators.com               1\n",
       "Inquirer                   1\n",
       "nationalenquirer.com       1\n",
       "Name: count, Length: 220, dtype: int64"
      ]
     },
     "execution_count": 44,
     "metadata": {},
     "output_type": "execute_result"
    }
   ],
   "source": [
    "media_url_counts_na\n",
    "media_url_counts_no_na"
   ]
  },
  {
   "cell_type": "code",
   "execution_count": 58,
   "id": "44f3b0fc-cd4c-4cf9-b8f7-0b2d132619d6",
   "metadata": {},
   "outputs": [
    {
     "data": {
      "text/plain": [
       "Index(['ID', 'URL', 'Body', 'Error', 'media_id', 'media_name', 'media_url',\n",
       "       'metadata', 'stories_id', 'story_tags', 'title'],\n",
       "      dtype='object')"
      ]
     },
     "execution_count": 58,
     "metadata": {},
     "output_type": "execute_result"
    }
   ],
   "source": [
    "no_scraped.columns"
   ]
  },
  {
   "cell_type": "code",
   "execution_count": 66,
   "id": "297ffeda-5bcb-484f-937f-c78a0f0ed08f",
   "metadata": {},
   "outputs": [
    {
     "data": {
      "text/plain": [
       "'https://www.forbes.com/sites/stevebanker/2021/02/02/kehe-distributors-undergoes-a-digital-transformation/'"
      ]
     },
     "execution_count": 66,
     "metadata": {},
     "output_type": "execute_result"
    }
   ],
   "source": [
    "no_scraped.loc[no_scraped['media_name'] == 'Forbes', 'URL'].iloc[6]"
   ]
  },
  {
   "cell_type": "code",
   "execution_count": null,
   "id": "8a266b85-77b5-4831-bb54-d89f2e9532ba",
   "metadata": {},
   "outputs": [],
   "source": []
  }
 ],
 "metadata": {
  "kernelspec": {
   "display_name": "Python 3",
   "language": "python",
   "name": "python3"
  },
  "language_info": {
   "codemirror_mode": {
    "name": "ipython",
    "version": 3
   },
   "file_extension": ".py",
   "mimetype": "text/x-python",
   "name": "python",
   "nbconvert_exporter": "python",
   "pygments_lexer": "ipython3",
   "version": "3.8.8"
  }
 },
 "nbformat": 4,
 "nbformat_minor": 5
}
