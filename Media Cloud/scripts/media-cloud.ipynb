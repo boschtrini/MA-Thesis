{
 "cells": [
  {
   "cell_type": "markdown",
   "id": "989a4f32-9ab5-4e05-83d8-ec648a936065",
   "metadata": {},
   "source": [
    "---\n",
    "## MEDIA DATA\n",
    "\n",
    "    https://github.com/codelucas/newspaper/\n",
    "---"
   ]
  },
  {
   "cell_type": "code",
   "execution_count": 3,
   "id": "83518ce7-c6d8-438f-87c6-91ac843615eb",
   "metadata": {},
   "outputs": [],
   "source": [
    "import pandas as pd\n",
    "from newspaper import Article ##scrape articles\n",
    "import requests\n",
    "from time import time\n",
    "import os"
   ]
  },
  {
   "cell_type": "code",
   "execution_count": 14,
   "id": "82244e85-aff2-4f84-aa66-31d9700fc3ea",
   "metadata": {},
   "outputs": [
    {
     "name": "stdout",
     "output_type": "stream",
     "text": [
      "/Users/trinidadbosch/Desktop/SEDS/Tesis/Data/Media Cloud/cleaned-data\n"
     ]
    }
   ],
   "source": [
    "## navigate until I'm in the correct Data folder\n",
    "%cd cleaned-data/"
   ]
  },
  {
   "cell_type": "code",
   "execution_count": 15,
   "id": "cc3a762a-aabb-4218-b263-bba31e2efc38",
   "metadata": {},
   "outputs": [
    {
     "name": "stdout",
     "output_type": "stream",
     "text": [
      "2682\n"
     ]
    }
   ],
   "source": [
    "# Provide the full path to your CSV file\n",
    "file_path = \"/Users/trinidadbosch/Desktop/SEDS/Tesis/Data/Media Cloud/cleaned-data/media-cloud-urls.csv\"\n",
    "\n",
    "# Read the CSV file\n",
    "media_urls = pd.read_csv(file_path)\n",
    "\n",
    "# Check the length of the DataFrame\n",
    "print(len(media_urls))"
   ]
  },
  {
   "cell_type": "code",
   "execution_count": 17,
   "id": "7cbf5a48-cde3-4120-ba52-3af393fd7296",
   "metadata": {},
   "outputs": [],
   "source": [
    "sample_100 = media_urls.head(100)\n",
    "#sample_100"
   ]
  },
  {
   "cell_type": "code",
   "execution_count": 105,
   "id": "f617a00c-b02c-4d2c-869d-149e17860582",
   "metadata": {},
   "outputs": [],
   "source": [
    "## drop duplicates\n",
    "media_urls = media_urls.drop_duplicates('guid', )"
   ]
  },
  {
   "cell_type": "code",
   "execution_count": 106,
   "id": "bf25bccb-eaa9-4636-b7ba-ae4ab7110328",
   "metadata": {
    "tags": []
   },
   "outputs": [
    {
     "name": "stdout",
     "output_type": "stream",
     "text": [
      "Total urls after remove duplicated: 2511\n",
      "\n"
     ]
    }
   ],
   "source": [
    "print(f'Total urls after remove duplicated: {len(media_urls)}\\n')\n",
    "#media_urls.head()"
   ]
  },
  {
   "cell_type": "code",
   "execution_count": 13,
   "id": "ed7b9fc7-dff3-4f2c-b3e2-cd44232bca12",
   "metadata": {},
   "outputs": [
    {
     "data": {
      "text/plain": [
       "Index(['ap_syndicated', 'collect_date', 'feeds', 'guid', 'language',\n",
       "       'media_id', 'media_name', 'media_url', 'metadata',\n",
       "       'processed_stories_id', 'publish_date', 'stories_id', 'story_tags',\n",
       "       'title', 'url', 'word_count'],\n",
       "      dtype='object')"
      ]
     },
     "execution_count": 13,
     "metadata": {},
     "output_type": "execute_result"
    }
   ],
   "source": [
    "media_urls.columns"
   ]
  },
  {
   "cell_type": "code",
   "execution_count": 107,
   "id": "5288e0a9-9919-4e19-87f8-c67a3a4042be",
   "metadata": {},
   "outputs": [],
   "source": [
    "## drop columns I dont need\n",
    "media_urls = media_urls.drop([\"ap_syndicated\", \"word_count\",\"story_tags\",\n",
    "                              \"feeds\",\"processed_stories_id\",\"media_url\",\n",
    "                              \"collect_date\",\"metadata\"], axis=1)"
   ]
  },
  {
   "cell_type": "code",
   "execution_count": 109,
   "id": "da3de0ea-340d-4e05-8bf0-f9939ce0cdb5",
   "metadata": {
    "tags": []
   },
   "outputs": [
    {
     "name": "stdout",
     "output_type": "stream",
     "text": [
      "Publish Date Distribution:\n",
      "publish_date\n",
      "2021-12-22 09:00:00    6\n",
      "2021-12-01 09:00:00    5\n",
      "2021-12-14 09:00:00    5\n",
      "2021-12-20 08:30:00    5\n",
      "2021-12-08 09:30:00    5\n",
      "                      ..\n",
      "2021-11-24 01:21:51    1\n",
      "2021-11-23 22:05:00    1\n",
      "2021-10-27 14:17:07    1\n",
      "2021-10-27 16:04:01    1\n",
      "2021-12-25 04:31:00    1\n",
      "Name: count, Length: 2313, dtype: int64\n"
     ]
    }
   ],
   "source": [
    "publish_date_distribution = media_urls['publish_date'].value_counts()\n",
    "\n",
    "# Display the distribution\n",
    "print(\"Publish Date Distribution:\")\n",
    "print(publish_date_distribution)"
   ]
  },
  {
   "cell_type": "code",
   "execution_count": 111,
   "id": "93d56a65-b9c3-4a55-8c77-6680566f5e1b",
   "metadata": {
    "collapsed": true,
    "jupyter": {
     "outputs_hidden": true
    },
    "tags": []
   },
   "outputs": [
    {
     "name": "stdout",
     "output_type": "stream",
     "text": [
      "Publish Date Distribution by Year-Month:\n",
      "year_month\n",
      "2013-10       1\n",
      "2013-12       3\n",
      "2014-01       4\n",
      "2014-03       2\n",
      "2014-05       1\n",
      "2014-06       2\n",
      "2014-07       1\n",
      "2014-09       1\n",
      "2014-11       2\n",
      "2014-12       2\n",
      "2015-02      50\n",
      "2015-03      48\n",
      "2015-04      80\n",
      "2015-05      75\n",
      "2015-06      98\n",
      "2015-07     109\n",
      "2015-08      85\n",
      "2015-09      77\n",
      "2017-03       1\n",
      "2018-03       1\n",
      "2018-11       1\n",
      "2019-06       1\n",
      "2019-08       1\n",
      "2019-10       2\n",
      "2019-11       1\n",
      "2019-12       1\n",
      "2020-03       1\n",
      "2020-04       2\n",
      "2020-05       1\n",
      "2020-06       1\n",
      "2020-08       2\n",
      "2020-09       8\n",
      "2020-10       1\n",
      "2021-03       1\n",
      "2021-06       1\n",
      "2021-08       1\n",
      "2021-09      14\n",
      "2021-10      51\n",
      "2021-11     425\n",
      "2021-12    1349\n",
      "Freq: M, Name: count, dtype: int64\n"
     ]
    }
   ],
   "source": [
    "media_urls['publish_date'] = pd.to_datetime(media_urls['publish_date'], errors='coerce')  # Convert and handle errors\n",
    "media_urls['year_month'] = media_urls['publish_date'].dt.to_period('M')  # Extract year-month\n",
    "\n",
    "# Group by year-month and get the distribution\n",
    "publish_date_distribution = media_urls['year_month'].value_counts().sort_index()\n",
    "\n",
    "# Display the distribution\n",
    "print(\"Publish Date Distribution by Year-Month:\")\n",
    "print(publish_date_distribution)"
   ]
  },
  {
   "cell_type": "code",
   "execution_count": null,
   "id": "d616e5ab-ba8c-4106-a41f-2779042b7f5b",
   "metadata": {},
   "outputs": [],
   "source": [
    "# Plotting the bar chart for the distribution\n",
    "plt.figure(figsize=(10, 6))\n",
    "publish_date_distribution.plot(kind='bar', color='skyblue')\n",
    "plt.title('Publish Date Distribution by Year-Month')\n",
    "plt.xlabel('Year-Month')\n",
    "plt.ylabel('Count')\n",
    "plt.show()"
   ]
  },
  {
   "cell_type": "code",
   "execution_count": 16,
   "id": "f4aaae97-551e-4896-ac5a-2979afe61221",
   "metadata": {},
   "outputs": [],
   "source": [
    "## function to download, parseand extract the text from news articles\n",
    "\n",
    "def fetch_articles_with_error_handling(ids, urls):\n",
    "    article_data = {\n",
    "        'ID': [],\n",
    "        'URL': [],\n",
    "        'Body': [],\n",
    "        'MetaData': [],\n",
    "        'Authors': [],\n",
    "        'Date': [],\n",
    "        'Title': [],\n",
    "        'Tags': [],\n",
    "        'MetaKeywords': [],\n",
    "        'Summary': [],\n",
    "    }\n",
    "\n",
    "    error_urls = []\n",
    "    \n",
    "    start_time = time()  # Record the start time\n",
    "    \n",
    "    for id_, url in zip(ids, urls):\n",
    "        try:\n",
    "            article = Article(url)\n",
    "            article.download()\n",
    "            article.parse()\n",
    "            \n",
    "            # Append the parsed article to the dictionary\n",
    "            article_data['ID'].append(id_)\n",
    "            article_data['URL'].append(url)\n",
    "            article_data['Body'].append(article.text)\n",
    "            article_data['MetaData'].append(article.meta_description)\n",
    "            article_data['Authors'].append(article.authors)\n",
    "            article_data['Date'].append(article.publish_date)\n",
    "            article_data['Title'].append(article.title)\n",
    "            article_data['Tags'].append(article.tags)\n",
    "            article_data['MetaKeywords'].append(article.meta_keywords)\n",
    "            \n",
    "            article.nlp()\n",
    "            article_data['Summary'].append(article.summary)\n",
    "            \n",
    "        except requests.exceptions.RequestException as e:\n",
    "            # Handle URL-related exceptions\n",
    "            error_urls.append(url)\n",
    "            # Append \"NA\" to the dictionary to indicate an error\n",
    "            article_data['ID'].append(id_)\n",
    "            article_data['URL'].append(url)\n",
    "            article_data['Body'].append('NA')\n",
    "            article_data['MetaData'].append('NA')\n",
    "            article_data['Authors'].append('NA')\n",
    "            article_data['Date'].append('NA')\n",
    "            article_data['Title'].append('NA')\n",
    "            article_data['Tags'].append('NA')\n",
    "            article_data['MetaKeywords'].append('NA')\n",
    "            article_data['Summary'].append('NA')\n",
    "        except Exception as e:\n",
    "            # Handle other exceptions (e.g., parsing errors)\n",
    "            error_urls.append(url)\n",
    "            # Append \"NA\" to the dictionary to indicate an error\n",
    "            article_data['ID'].append(id_)\n",
    "            article_data['URL'].append(url)\n",
    "            article_data['Body'].append('NA')\n",
    "            article_data['MetaData'].append('NA')\n",
    "            article_data['Authors'].append('NA')\n",
    "            article_data['Date'].append('NA')\n",
    "            article_data['Title'].append('NA')\n",
    "            article_data['Tags'].append('NA')\n",
    "            article_data['MetaKeywords'].append('NA')\n",
    "            article_data['Summary'].append('NA')\n",
    "    \n",
    "    end_time = time()  # Record the end time\n",
    "    \n",
    "    elapsed_time = end_time - start_time  # Calculate the elapsed time\n",
    "    \n",
    "    print(f\"Time taken to fetch and parse articles: {elapsed_time:.2f} seconds\")\n",
    "    \n",
    "    return pd.DataFrame(article_data)"
   ]
  },
  {
   "cell_type": "code",
   "execution_count": 18,
   "id": "6a48a17a-28f7-4ae0-9441-33b785c67a88",
   "metadata": {},
   "outputs": [
    {
     "name": "stdout",
     "output_type": "stream",
     "text": [
      "Time taken to fetch and parse articles: 5.75 seconds\n"
     ]
    }
   ],
   "source": [
    "# test 10 rows the 'stories_id' and 'url' columns\n",
    "idsTest = media_urls['stories_id'].tail(10)\n",
    "urlsTest = media_urls['url'].tail(10)\n",
    "\n",
    "# Call the function\n",
    "result_dfTest = fetch_articles_with_error_handling(idsTest, urlsTest)"
   ]
  },
  {
   "cell_type": "code",
   "execution_count": 19,
   "id": "579d826f-bf7f-4881-808d-53d655818814",
   "metadata": {
    "collapsed": true,
    "jupyter": {
     "outputs_hidden": true
    },
    "tags": []
   },
   "outputs": [
    {
     "data": {
      "text/html": [
       "<div>\n",
       "<style scoped>\n",
       "    .dataframe tbody tr th:only-of-type {\n",
       "        vertical-align: middle;\n",
       "    }\n",
       "\n",
       "    .dataframe tbody tr th {\n",
       "        vertical-align: top;\n",
       "    }\n",
       "\n",
       "    .dataframe thead th {\n",
       "        text-align: right;\n",
       "    }\n",
       "</style>\n",
       "<table border=\"1\" class=\"dataframe\">\n",
       "  <thead>\n",
       "    <tr style=\"text-align: right;\">\n",
       "      <th></th>\n",
       "      <th>ID</th>\n",
       "      <th>URL</th>\n",
       "      <th>Body</th>\n",
       "      <th>MetaData</th>\n",
       "      <th>Authors</th>\n",
       "      <th>Date</th>\n",
       "      <th>Title</th>\n",
       "      <th>Tags</th>\n",
       "      <th>MetaKeywords</th>\n",
       "      <th>Summary</th>\n",
       "    </tr>\n",
       "  </thead>\n",
       "  <tbody>\n",
       "    <tr>\n",
       "      <th>0</th>\n",
       "      <td>2147100221</td>\n",
       "      <td>https://www.staradvertiser.com/2021/12/24/brea...</td>\n",
       "      <td>TOKYO &gt;&gt; Japan’s Cabinet approved a record $47...</td>\n",
       "      <td>The budget, which still needs to be approved b...</td>\n",
       "      <td>[Associated Press]</td>\n",
       "      <td>2021-12-24 00:00:00</td>\n",
       "      <td>Japan Cabinet OKs record defense budget amid T...</td>\n",
       "      <td>{Red Hill Water Crisis, Recipes, Columnists, R...</td>\n",
       "      <td>[World news]</td>\n",
       "      <td>The budget, which still needs to be approved b...</td>\n",
       "    </tr>\n",
       "    <tr>\n",
       "      <th>1</th>\n",
       "      <td>2147106442</td>\n",
       "      <td>https://www.forbes.com/sites/stevenehrlich/202...</td>\n",
       "      <td>NA</td>\n",
       "      <td>NA</td>\n",
       "      <td>NA</td>\n",
       "      <td>NA</td>\n",
       "      <td>NA</td>\n",
       "      <td>NA</td>\n",
       "      <td>NA</td>\n",
       "      <td>NA</td>\n",
       "    </tr>\n",
       "    <tr>\n",
       "      <th>2</th>\n",
       "      <td>2147106493</td>\n",
       "      <td>https://www.latimes.com/politics/story/2021-09...</td>\n",
       "      <td>A U.S. submarine travels the Strait of Hormuz ...</td>\n",
       "      <td>The U.S. will share nuclear submarine technolo...</td>\n",
       "      <td>[Staff Writer, Former Staff Writer Chris Meger...</td>\n",
       "      <td>2021-09-15 00:00:00</td>\n",
       "      <td>U.S. will share nuclear submarine technology w...</td>\n",
       "      <td>{Subscribers Are Reading, For Subscribers}</td>\n",
       "      <td>[]</td>\n",
       "      <td>The United States will arm Australia with nucl...</td>\n",
       "    </tr>\n",
       "    <tr>\n",
       "      <th>3</th>\n",
       "      <td>2147110602</td>\n",
       "      <td>https://hotair.com/john-s-2/2021/12/24/is-chin...</td>\n",
       "      <td>The Omicron variant could have been called the...</td>\n",
       "      <td></td>\n",
       "      <td>[John Sexton, Pj Media]</td>\n",
       "      <td>2021-12-24 00:00:00</td>\n",
       "      <td>Is China going to be able to deal with Omicron?</td>\n",
       "      <td>{CHINA, OMICRON, LOCKDOWN, 2022 OLYMPIC GAMES}</td>\n",
       "      <td>[]</td>\n",
       "      <td>The Omicron variant could have been called the...</td>\n",
       "    </tr>\n",
       "    <tr>\n",
       "      <th>4</th>\n",
       "      <td>2147228178</td>\n",
       "      <td>https://www.newsmax.com/newsfront/kissinger-ar...</td>\n",
       "      <td>Former Secretary of State Henry Kissinger said...</td>\n",
       "      <td>Kissinger, 98, spoke on a panel to highlight h...</td>\n",
       "      <td>[Luca Cacciatore]</td>\n",
       "      <td>2021-12-24 00:00:00</td>\n",
       "      <td>Henry Kissinger: AI Will Make Us Reconsider Wh...</td>\n",
       "      <td>{Donald Trump, Inflation, Newsmax TV, Israel, ...</td>\n",
       "      <td>[kissinger, artificial intelligence, science, ...</td>\n",
       "      <td>Kissinger, 98, spoke on a panel to highlight h...</td>\n",
       "    </tr>\n",
       "    <tr>\n",
       "      <th>5</th>\n",
       "      <td>2147256716</td>\n",
       "      <td>https://www.eastbaytimes.com/2021/12/24/japan-...</td>\n",
       "      <td>By Mari Yamaguchi | Associated Press\\n\\nTOKYO ...</td>\n",
       "      <td>TOKYO (AP) — Japan's Cabinet approved a record...</td>\n",
       "      <td>[Associated Press]</td>\n",
       "      <td>2021-12-24 00:00:00</td>\n",
       "      <td>Japan Cabinet OKs record defense budget amid T...</td>\n",
       "      <td>{Mr. Roadshow, Opinion Columnists, Pac-12 Hotl...</td>\n",
       "      <td>[]</td>\n",
       "      <td>The budget, which still needs to be approved b...</td>\n",
       "    </tr>\n",
       "    <tr>\n",
       "      <th>6</th>\n",
       "      <td>2147258381</td>\n",
       "      <td>https://www.techradar.com/news/this-powerful-s...</td>\n",
       "      <td>In addition to being one of the most powerful ...</td>\n",
       "      <td>France's Jean Zay supercomputer now has an int...</td>\n",
       "      <td>[Anthony Spadafora, Social Links Navigation]</td>\n",
       "      <td>2021-12-25 04:00:33+00:00</td>\n",
       "      <td>This powerful supercomputer can now run on lig...</td>\n",
       "      <td>{Nvidia, Expert Insights}</td>\n",
       "      <td>[]</td>\n",
       "      <td>In addition to being one of the most powerful ...</td>\n",
       "    </tr>\n",
       "    <tr>\n",
       "      <th>7</th>\n",
       "      <td>2147270763</td>\n",
       "      <td>https://www.mercurynews.com/2021/12/24/japan-c...</td>\n",
       "      <td>By Mari Yamaguchi | Associated Press\\n\\nTOKYO ...</td>\n",
       "      <td>Japan’s Cabinet approved a record $47 billion ...</td>\n",
       "      <td>[Associated Press]</td>\n",
       "      <td>2021-12-24 00:00:00</td>\n",
       "      <td>Japan Cabinet OKs record defense budget amid T...</td>\n",
       "      <td>{Mr. Roadshow, Opinion Columnists, Pac-12 Hotl...</td>\n",
       "      <td>[]</td>\n",
       "      <td>The budget, which still needs to be approved b...</td>\n",
       "    </tr>\n",
       "    <tr>\n",
       "      <th>8</th>\n",
       "      <td>2147325469</td>\n",
       "      <td>https://www.sfgate.com/news/article/12-year-ol...</td>\n",
       "      <td>NA</td>\n",
       "      <td>NA</td>\n",
       "      <td>NA</td>\n",
       "      <td>NA</td>\n",
       "      <td>NA</td>\n",
       "      <td>NA</td>\n",
       "      <td>NA</td>\n",
       "      <td>NA</td>\n",
       "    </tr>\n",
       "    <tr>\n",
       "      <th>9</th>\n",
       "      <td>2147381610</td>\n",
       "      <td>https://www.arkansasonline.com/news/2021/dec/2...</td>\n",
       "      <td>TOKYO -- Japan's Cabinet approved a record $47...</td>\n",
       "      <td>TOKYO -- Japan's Cabinet approved a record $47...</td>\n",
       "      <td>[The Associated Press]</td>\n",
       "      <td>2021-12-25 00:00:00</td>\n",
       "      <td>Japan approves $47B defense budget</td>\n",
       "      <td>{}</td>\n",
       "      <td>[]</td>\n",
       "      <td>Japan's defense spending now ranks among the t...</td>\n",
       "    </tr>\n",
       "  </tbody>\n",
       "</table>\n",
       "</div>"
      ],
      "text/plain": [
       "           ID                                                URL  \\\n",
       "0  2147100221  https://www.staradvertiser.com/2021/12/24/brea...   \n",
       "1  2147106442  https://www.forbes.com/sites/stevenehrlich/202...   \n",
       "2  2147106493  https://www.latimes.com/politics/story/2021-09...   \n",
       "3  2147110602  https://hotair.com/john-s-2/2021/12/24/is-chin...   \n",
       "4  2147228178  https://www.newsmax.com/newsfront/kissinger-ar...   \n",
       "5  2147256716  https://www.eastbaytimes.com/2021/12/24/japan-...   \n",
       "6  2147258381  https://www.techradar.com/news/this-powerful-s...   \n",
       "7  2147270763  https://www.mercurynews.com/2021/12/24/japan-c...   \n",
       "8  2147325469  https://www.sfgate.com/news/article/12-year-ol...   \n",
       "9  2147381610  https://www.arkansasonline.com/news/2021/dec/2...   \n",
       "\n",
       "                                                Body  \\\n",
       "0  TOKYO >> Japan’s Cabinet approved a record $47...   \n",
       "1                                                 NA   \n",
       "2  A U.S. submarine travels the Strait of Hormuz ...   \n",
       "3  The Omicron variant could have been called the...   \n",
       "4  Former Secretary of State Henry Kissinger said...   \n",
       "5  By Mari Yamaguchi | Associated Press\\n\\nTOKYO ...   \n",
       "6  In addition to being one of the most powerful ...   \n",
       "7  By Mari Yamaguchi | Associated Press\\n\\nTOKYO ...   \n",
       "8                                                 NA   \n",
       "9  TOKYO -- Japan's Cabinet approved a record $47...   \n",
       "\n",
       "                                            MetaData  \\\n",
       "0  The budget, which still needs to be approved b...   \n",
       "1                                                 NA   \n",
       "2  The U.S. will share nuclear submarine technolo...   \n",
       "3                                                      \n",
       "4  Kissinger, 98, spoke on a panel to highlight h...   \n",
       "5  TOKYO (AP) — Japan's Cabinet approved a record...   \n",
       "6  France's Jean Zay supercomputer now has an int...   \n",
       "7  Japan’s Cabinet approved a record $47 billion ...   \n",
       "8                                                 NA   \n",
       "9  TOKYO -- Japan's Cabinet approved a record $47...   \n",
       "\n",
       "                                             Authors  \\\n",
       "0                                 [Associated Press]   \n",
       "1                                                 NA   \n",
       "2  [Staff Writer, Former Staff Writer Chris Meger...   \n",
       "3                            [John Sexton, Pj Media]   \n",
       "4                                  [Luca Cacciatore]   \n",
       "5                                 [Associated Press]   \n",
       "6       [Anthony Spadafora, Social Links Navigation]   \n",
       "7                                 [Associated Press]   \n",
       "8                                                 NA   \n",
       "9                             [The Associated Press]   \n",
       "\n",
       "                        Date  \\\n",
       "0        2021-12-24 00:00:00   \n",
       "1                         NA   \n",
       "2        2021-09-15 00:00:00   \n",
       "3        2021-12-24 00:00:00   \n",
       "4        2021-12-24 00:00:00   \n",
       "5        2021-12-24 00:00:00   \n",
       "6  2021-12-25 04:00:33+00:00   \n",
       "7        2021-12-24 00:00:00   \n",
       "8                         NA   \n",
       "9        2021-12-25 00:00:00   \n",
       "\n",
       "                                               Title  \\\n",
       "0  Japan Cabinet OKs record defense budget amid T...   \n",
       "1                                                 NA   \n",
       "2  U.S. will share nuclear submarine technology w...   \n",
       "3    Is China going to be able to deal with Omicron?   \n",
       "4  Henry Kissinger: AI Will Make Us Reconsider Wh...   \n",
       "5  Japan Cabinet OKs record defense budget amid T...   \n",
       "6  This powerful supercomputer can now run on lig...   \n",
       "7  Japan Cabinet OKs record defense budget amid T...   \n",
       "8                                                 NA   \n",
       "9                 Japan approves $47B defense budget   \n",
       "\n",
       "                                                Tags  \\\n",
       "0  {Red Hill Water Crisis, Recipes, Columnists, R...   \n",
       "1                                                 NA   \n",
       "2         {Subscribers Are Reading, For Subscribers}   \n",
       "3     {CHINA, OMICRON, LOCKDOWN, 2022 OLYMPIC GAMES}   \n",
       "4  {Donald Trump, Inflation, Newsmax TV, Israel, ...   \n",
       "5  {Mr. Roadshow, Opinion Columnists, Pac-12 Hotl...   \n",
       "6                          {Nvidia, Expert Insights}   \n",
       "7  {Mr. Roadshow, Opinion Columnists, Pac-12 Hotl...   \n",
       "8                                                 NA   \n",
       "9                                                 {}   \n",
       "\n",
       "                                        MetaKeywords  \\\n",
       "0                                       [World news]   \n",
       "1                                                 NA   \n",
       "2                                                 []   \n",
       "3                                                 []   \n",
       "4  [kissinger, artificial intelligence, science, ...   \n",
       "5                                                 []   \n",
       "6                                                 []   \n",
       "7                                                 []   \n",
       "8                                                 NA   \n",
       "9                                                 []   \n",
       "\n",
       "                                             Summary  \n",
       "0  The budget, which still needs to be approved b...  \n",
       "1                                                 NA  \n",
       "2  The United States will arm Australia with nucl...  \n",
       "3  The Omicron variant could have been called the...  \n",
       "4  Kissinger, 98, spoke on a panel to highlight h...  \n",
       "5  The budget, which still needs to be approved b...  \n",
       "6  In addition to being one of the most powerful ...  \n",
       "7  The budget, which still needs to be approved b...  \n",
       "8                                                 NA  \n",
       "9  Japan's defense spending now ranks among the t...  "
      ]
     },
     "execution_count": 19,
     "metadata": {},
     "output_type": "execute_result"
    }
   ],
   "source": [
    "result_dfTest"
   ]
  },
  {
   "cell_type": "code",
   "execution_count": 21,
   "id": "c4defc92-1ed9-4b74-b554-166880043286",
   "metadata": {},
   "outputs": [
    {
     "name": "stdout",
     "output_type": "stream",
     "text": [
      "Time taken to fetch and parse articles: 2017.15 seconds\n"
     ]
    }
   ],
   "source": [
    "# Run using the whole data the 'stories_id' and 'url' columns\n",
    "# ids = media_urls['stories_id']\n",
    "# urls = media_urls['url']\n",
    "\n",
    "# Call the function\n",
    "#result_df = fetch_articles_with_error_handling(ids, urls)"
   ]
  },
  {
   "cell_type": "code",
   "execution_count": 22,
   "id": "31827160-61ed-4ced-8c39-9a8c616a4e1f",
   "metadata": {},
   "outputs": [],
   "source": [
    "## saving the data into a csv\n",
    "result_df.to_csv('media-urls-extracted.csv')"
   ]
  },
  {
   "cell_type": "code",
   "execution_count": 102,
   "id": "4feb1223-7148-41d4-8279-a2576a5447f1",
   "metadata": {},
   "outputs": [],
   "source": [
    "tenYears = pd.read_csv(\"media-urls-extracted.csv\")"
   ]
  },
  {
   "cell_type": "code",
   "execution_count": 103,
   "id": "cebfdaa1-1883-40fa-a81c-f70db59d9c11",
   "metadata": {},
   "outputs": [
    {
     "data": {
      "text/html": [
       "<div>\n",
       "<style scoped>\n",
       "    .dataframe tbody tr th:only-of-type {\n",
       "        vertical-align: middle;\n",
       "    }\n",
       "\n",
       "    .dataframe tbody tr th {\n",
       "        vertical-align: top;\n",
       "    }\n",
       "\n",
       "    .dataframe thead th {\n",
       "        text-align: right;\n",
       "    }\n",
       "</style>\n",
       "<table border=\"1\" class=\"dataframe\">\n",
       "  <thead>\n",
       "    <tr style=\"text-align: right;\">\n",
       "      <th></th>\n",
       "      <th>Unnamed: 0</th>\n",
       "      <th>ID</th>\n",
       "      <th>URL</th>\n",
       "      <th>Body</th>\n",
       "      <th>MetaData</th>\n",
       "      <th>Authors</th>\n",
       "      <th>Date</th>\n",
       "      <th>Title</th>\n",
       "      <th>Tags</th>\n",
       "      <th>MetaKeywords</th>\n",
       "      <th>Summary</th>\n",
       "    </tr>\n",
       "  </thead>\n",
       "  <tbody>\n",
       "    <tr>\n",
       "      <th>0</th>\n",
       "      <td>0</td>\n",
       "      <td>168079399</td>\n",
       "      <td>http://www.businessweek.com/articles/2013-10-2...</td>\n",
       "      <td>Bloomberg Businessweek\\n\\nCarol Massar and Tim...</td>\n",
       "      <td>Bloomberg Businessweek helps global leaders st...</td>\n",
       "      <td>[]</td>\n",
       "      <td>2013-10-25 00:00:00</td>\n",
       "      <td>Businessweek</td>\n",
       "      <td>set()</td>\n",
       "      <td>['']</td>\n",
       "      <td>Bloomberg BusinessweekCarol Massar and Tim Ste...</td>\n",
       "    </tr>\n",
       "    <tr>\n",
       "      <th>1</th>\n",
       "      <td>1</td>\n",
       "      <td>188645324</td>\n",
       "      <td>http://www.sacbee.com/2013/12/23/6023817/uk-fi...</td>\n",
       "      <td>NaN</td>\n",
       "      <td>NaN</td>\n",
       "      <td>NaN</td>\n",
       "      <td>NaN</td>\n",
       "      <td>NaN</td>\n",
       "      <td>NaN</td>\n",
       "      <td>NaN</td>\n",
       "      <td>NaN</td>\n",
       "    </tr>\n",
       "    <tr>\n",
       "      <th>2</th>\n",
       "      <td>2</td>\n",
       "      <td>190849141</td>\n",
       "      <td>http://www.sacbee.com/2014/01/03/6043616/gloom...</td>\n",
       "      <td>NaN</td>\n",
       "      <td>NaN</td>\n",
       "      <td>NaN</td>\n",
       "      <td>NaN</td>\n",
       "      <td>NaN</td>\n",
       "      <td>NaN</td>\n",
       "      <td>NaN</td>\n",
       "      <td>NaN</td>\n",
       "    </tr>\n",
       "    <tr>\n",
       "      <th>3</th>\n",
       "      <td>3</td>\n",
       "      <td>194150156</td>\n",
       "      <td>http://www.zdnet.com/the-future-of-shopping-wh...</td>\n",
       "      <td>The future of shopping is going to look a lot ...</td>\n",
       "      <td>The best part about the retail sector is that ...</td>\n",
       "      <td>['Larry Dignan', 'Jan.', 'At A.M. Pt']</td>\n",
       "      <td>NaN</td>\n",
       "      <td>The future of shopping: When psychology and em...</td>\n",
       "      <td>{'Enterprise Software', 'Digital Transformatio...</td>\n",
       "      <td>['']</td>\n",
       "      <td>Upscale vending machines that provide an exper...</td>\n",
       "    </tr>\n",
       "    <tr>\n",
       "      <th>4</th>\n",
       "      <td>4</td>\n",
       "      <td>197701064</td>\n",
       "      <td>http://www.sacbee.com/2014/01/27/6104790/iu-pr...</td>\n",
       "      <td>NaN</td>\n",
       "      <td>NaN</td>\n",
       "      <td>NaN</td>\n",
       "      <td>NaN</td>\n",
       "      <td>NaN</td>\n",
       "      <td>NaN</td>\n",
       "      <td>NaN</td>\n",
       "      <td>NaN</td>\n",
       "    </tr>\n",
       "    <tr>\n",
       "      <th>...</th>\n",
       "      <td>...</td>\n",
       "      <td>...</td>\n",
       "      <td>...</td>\n",
       "      <td>...</td>\n",
       "      <td>...</td>\n",
       "      <td>...</td>\n",
       "      <td>...</td>\n",
       "      <td>...</td>\n",
       "      <td>...</td>\n",
       "      <td>...</td>\n",
       "      <td>...</td>\n",
       "    </tr>\n",
       "    <tr>\n",
       "      <th>2506</th>\n",
       "      <td>2506</td>\n",
       "      <td>2147256716</td>\n",
       "      <td>https://www.eastbaytimes.com/2021/12/24/japan-...</td>\n",
       "      <td>By Mari Yamaguchi | Associated Press\\n\\nTOKYO ...</td>\n",
       "      <td>TOKYO (AP) — Japan's Cabinet approved a record...</td>\n",
       "      <td>['Associated Press']</td>\n",
       "      <td>2021-12-24 00:00:00</td>\n",
       "      <td>Japan Cabinet OKs record defense budget amid T...</td>\n",
       "      <td>{'Mr. Roadshow', 'Opinion Columnists', 'Pac-12...</td>\n",
       "      <td>['']</td>\n",
       "      <td>The budget, which still needs to be approved b...</td>\n",
       "    </tr>\n",
       "    <tr>\n",
       "      <th>2507</th>\n",
       "      <td>2507</td>\n",
       "      <td>2147258381</td>\n",
       "      <td>https://www.techradar.com/news/this-powerful-s...</td>\n",
       "      <td>In addition to being one of the most powerful ...</td>\n",
       "      <td>France's Jean Zay supercomputer now has an int...</td>\n",
       "      <td>['Anthony Spadafora', 'Social Links Navigation']</td>\n",
       "      <td>2021-12-25 04:00:33+00:00</td>\n",
       "      <td>This powerful supercomputer can now run on lig...</td>\n",
       "      <td>{'Nvidia', 'Expert Insights'}</td>\n",
       "      <td>['']</td>\n",
       "      <td>In addition to being one of the most powerful ...</td>\n",
       "    </tr>\n",
       "    <tr>\n",
       "      <th>2508</th>\n",
       "      <td>2508</td>\n",
       "      <td>2147270763</td>\n",
       "      <td>https://www.mercurynews.com/2021/12/24/japan-c...</td>\n",
       "      <td>By Mari Yamaguchi | Associated Press\\n\\nTOKYO ...</td>\n",
       "      <td>Japan’s Cabinet approved a record $47 billion ...</td>\n",
       "      <td>['Associated Press']</td>\n",
       "      <td>2021-12-24 00:00:00</td>\n",
       "      <td>Japan Cabinet OKs record defense budget amid T...</td>\n",
       "      <td>{'Mr. Roadshow', 'Opinion Columnists', 'Pac-12...</td>\n",
       "      <td>['']</td>\n",
       "      <td>The budget, which still needs to be approved b...</td>\n",
       "    </tr>\n",
       "    <tr>\n",
       "      <th>2509</th>\n",
       "      <td>2509</td>\n",
       "      <td>2147325469</td>\n",
       "      <td>https://www.sfgate.com/news/article/12-year-ol...</td>\n",
       "      <td>NaN</td>\n",
       "      <td>NaN</td>\n",
       "      <td>NaN</td>\n",
       "      <td>NaN</td>\n",
       "      <td>NaN</td>\n",
       "      <td>NaN</td>\n",
       "      <td>NaN</td>\n",
       "      <td>NaN</td>\n",
       "    </tr>\n",
       "    <tr>\n",
       "      <th>2510</th>\n",
       "      <td>2510</td>\n",
       "      <td>2147381610</td>\n",
       "      <td>https://www.arkansasonline.com/news/2021/dec/2...</td>\n",
       "      <td>TOKYO -- Japan's Cabinet approved a record $47...</td>\n",
       "      <td>TOKYO -- Japan's Cabinet approved a record $47...</td>\n",
       "      <td>['The Associated Press']</td>\n",
       "      <td>2021-12-25 00:00:00</td>\n",
       "      <td>Japan approves $47B defense budget</td>\n",
       "      <td>set()</td>\n",
       "      <td>['']</td>\n",
       "      <td>Japan's defense spending now ranks among the t...</td>\n",
       "    </tr>\n",
       "  </tbody>\n",
       "</table>\n",
       "<p>2511 rows × 11 columns</p>\n",
       "</div>"
      ],
      "text/plain": [
       "      Unnamed: 0          ID  \\\n",
       "0              0   168079399   \n",
       "1              1   188645324   \n",
       "2              2   190849141   \n",
       "3              3   194150156   \n",
       "4              4   197701064   \n",
       "...          ...         ...   \n",
       "2506        2506  2147256716   \n",
       "2507        2507  2147258381   \n",
       "2508        2508  2147270763   \n",
       "2509        2509  2147325469   \n",
       "2510        2510  2147381610   \n",
       "\n",
       "                                                    URL  \\\n",
       "0     http://www.businessweek.com/articles/2013-10-2...   \n",
       "1     http://www.sacbee.com/2013/12/23/6023817/uk-fi...   \n",
       "2     http://www.sacbee.com/2014/01/03/6043616/gloom...   \n",
       "3     http://www.zdnet.com/the-future-of-shopping-wh...   \n",
       "4     http://www.sacbee.com/2014/01/27/6104790/iu-pr...   \n",
       "...                                                 ...   \n",
       "2506  https://www.eastbaytimes.com/2021/12/24/japan-...   \n",
       "2507  https://www.techradar.com/news/this-powerful-s...   \n",
       "2508  https://www.mercurynews.com/2021/12/24/japan-c...   \n",
       "2509  https://www.sfgate.com/news/article/12-year-ol...   \n",
       "2510  https://www.arkansasonline.com/news/2021/dec/2...   \n",
       "\n",
       "                                                   Body  \\\n",
       "0     Bloomberg Businessweek\\n\\nCarol Massar and Tim...   \n",
       "1                                                   NaN   \n",
       "2                                                   NaN   \n",
       "3     The future of shopping is going to look a lot ...   \n",
       "4                                                   NaN   \n",
       "...                                                 ...   \n",
       "2506  By Mari Yamaguchi | Associated Press\\n\\nTOKYO ...   \n",
       "2507  In addition to being one of the most powerful ...   \n",
       "2508  By Mari Yamaguchi | Associated Press\\n\\nTOKYO ...   \n",
       "2509                                                NaN   \n",
       "2510  TOKYO -- Japan's Cabinet approved a record $47...   \n",
       "\n",
       "                                               MetaData  \\\n",
       "0     Bloomberg Businessweek helps global leaders st...   \n",
       "1                                                   NaN   \n",
       "2                                                   NaN   \n",
       "3     The best part about the retail sector is that ...   \n",
       "4                                                   NaN   \n",
       "...                                                 ...   \n",
       "2506  TOKYO (AP) — Japan's Cabinet approved a record...   \n",
       "2507  France's Jean Zay supercomputer now has an int...   \n",
       "2508  Japan’s Cabinet approved a record $47 billion ...   \n",
       "2509                                                NaN   \n",
       "2510  TOKYO -- Japan's Cabinet approved a record $47...   \n",
       "\n",
       "                                               Authors  \\\n",
       "0                                                   []   \n",
       "1                                                  NaN   \n",
       "2                                                  NaN   \n",
       "3               ['Larry Dignan', 'Jan.', 'At A.M. Pt']   \n",
       "4                                                  NaN   \n",
       "...                                                ...   \n",
       "2506                              ['Associated Press']   \n",
       "2507  ['Anthony Spadafora', 'Social Links Navigation']   \n",
       "2508                              ['Associated Press']   \n",
       "2509                                               NaN   \n",
       "2510                          ['The Associated Press']   \n",
       "\n",
       "                           Date  \\\n",
       "0           2013-10-25 00:00:00   \n",
       "1                           NaN   \n",
       "2                           NaN   \n",
       "3                           NaN   \n",
       "4                           NaN   \n",
       "...                         ...   \n",
       "2506        2021-12-24 00:00:00   \n",
       "2507  2021-12-25 04:00:33+00:00   \n",
       "2508        2021-12-24 00:00:00   \n",
       "2509                        NaN   \n",
       "2510        2021-12-25 00:00:00   \n",
       "\n",
       "                                                  Title  \\\n",
       "0                                          Businessweek   \n",
       "1                                                   NaN   \n",
       "2                                                   NaN   \n",
       "3     The future of shopping: When psychology and em...   \n",
       "4                                                   NaN   \n",
       "...                                                 ...   \n",
       "2506  Japan Cabinet OKs record defense budget amid T...   \n",
       "2507  This powerful supercomputer can now run on lig...   \n",
       "2508  Japan Cabinet OKs record defense budget amid T...   \n",
       "2509                                                NaN   \n",
       "2510                 Japan approves $47B defense budget   \n",
       "\n",
       "                                                   Tags MetaKeywords  \\\n",
       "0                                                 set()         ['']   \n",
       "1                                                   NaN          NaN   \n",
       "2                                                   NaN          NaN   \n",
       "3     {'Enterprise Software', 'Digital Transformatio...         ['']   \n",
       "4                                                   NaN          NaN   \n",
       "...                                                 ...          ...   \n",
       "2506  {'Mr. Roadshow', 'Opinion Columnists', 'Pac-12...         ['']   \n",
       "2507                      {'Nvidia', 'Expert Insights'}         ['']   \n",
       "2508  {'Mr. Roadshow', 'Opinion Columnists', 'Pac-12...         ['']   \n",
       "2509                                                NaN          NaN   \n",
       "2510                                              set()         ['']   \n",
       "\n",
       "                                                Summary  \n",
       "0     Bloomberg BusinessweekCarol Massar and Tim Ste...  \n",
       "1                                                   NaN  \n",
       "2                                                   NaN  \n",
       "3     Upscale vending machines that provide an exper...  \n",
       "4                                                   NaN  \n",
       "...                                                 ...  \n",
       "2506  The budget, which still needs to be approved b...  \n",
       "2507  In addition to being one of the most powerful ...  \n",
       "2508  The budget, which still needs to be approved b...  \n",
       "2509                                                NaN  \n",
       "2510  Japan's defense spending now ranks among the t...  \n",
       "\n",
       "[2511 rows x 11 columns]"
      ]
     },
     "execution_count": 103,
     "metadata": {},
     "output_type": "execute_result"
    }
   ],
   "source": [
    "tenYears"
   ]
  },
  {
   "cell_type": "code",
   "execution_count": 101,
   "id": "43cf5ecc-3896-4a23-a2c0-11cfc7ded2e9",
   "metadata": {},
   "outputs": [
    {
     "data": {
      "text/plain": [
       "320"
      ]
     },
     "execution_count": 101,
     "metadata": {},
     "output_type": "execute_result"
    }
   ],
   "source": [
    "result_df.isna().sum().sum()"
   ]
  },
  {
   "cell_type": "code",
   "execution_count": 27,
   "id": "d84578e6-7d9c-493c-9179-8c17bb0fa550",
   "metadata": {},
   "outputs": [
    {
     "data": {
      "text/plain": [
       "2511"
      ]
     },
     "execution_count": 27,
     "metadata": {},
     "output_type": "execute_result"
    }
   ],
   "source": [
    "len(result_df)"
   ]
  },
  {
   "cell_type": "code",
   "execution_count": 58,
   "id": "cc929119-e557-437e-8574-d505801dd498",
   "metadata": {},
   "outputs": [
    {
     "data": {
      "text/plain": [
       "Index(['ap_syndicated', 'collect_date', 'feeds', 'guid', 'language',\n",
       "       'media_id', 'media_name', 'media_url', 'metadata',\n",
       "       'processed_stories_id', 'publish_date', 'stories_id', 'story_tags',\n",
       "       'title', 'url', 'word_count'],\n",
       "      dtype='object')"
      ]
     },
     "execution_count": 58,
     "metadata": {},
     "output_type": "execute_result"
    }
   ],
   "source": [
    "data_13_14.columns"
   ]
  },
  {
   "cell_type": "code",
   "execution_count": 96,
   "id": "1de4ef83-2238-4515-b699-f8d1a4784120",
   "metadata": {},
   "outputs": [],
   "source": [
    "data_13_14 = pd.read_csv(\"media-cloud-oct13-oct14.csv\")\n",
    "data_14_15 = pd.read_csv(\"mc-oct14-oct15.csv\")\n",
    "data_15_16 = pd.read_csv(\"media-cloud-oct15-oct16.csv\")\n",
    "data_17_18 = pd.read_csv(\"mc-oct17-oct18-content.csv\")\n",
    "data_18_19 = pd.read_csv(\"mc-oct18-oct19.csv\")\n",
    "data_19 = pd.read_csv(\"mc-19.csv\")\n",
    "data_19_20 = pd.read_csv(\"mc-oct19-oct20.csv\")\n",
    "data_oct20_dec20 = pd.read_csv(\"mc-oct20-dec20.csv\")\n",
    "data_dec20 = pd.read_csv(\"mc-dec20-.csv\")\n",
    "data_jan21 = pd.read_csv(\"mc-jan21.csv\")"
   ]
  },
  {
   "cell_type": "code",
   "execution_count": 98,
   "id": "82bc7fed-4a0d-4775-b081-7807668e32a1",
   "metadata": {},
   "outputs": [
    {
     "name": "stdout",
     "output_type": "stream",
     "text": [
      "2018-10-01 00:01:00\n",
      "2019-01-31 16:30:00\n",
      "2019-01-01 01:00:12\n",
      "2019-01-31 16:30:00\n",
      "996\n",
      "997\n",
      "2019-10-01 01:26:33\n",
      "2020-07-03 15:23:21\n",
      "2020-10-01 00:00:00\n",
      "2020-12-01 22:41:39\n",
      "2020-12-01 02:32:00\n",
      "2021-01-01 23:39:23\n",
      "2021-01-01 01:53:00\n",
      "2021-02-01 23:54:04\n"
     ]
    },
    {
     "data": {
      "text/plain": [
       "1894"
      ]
     },
     "execution_count": 98,
     "metadata": {},
     "output_type": "execute_result"
    }
   ],
   "source": [
    "print(data_18_19[\"publish_date\"].min())\n",
    "print(data_18_19[\"publish_date\"].max())\n",
    "len(data_19)\n",
    "print(data_19[\"publish_date\"].min())\n",
    "print(data_19[\"publish_date\"].max())\n",
    "print(len(data_18_19))\n",
    "print(len(data_19))\n",
    "len(data_19_20)\n",
    "print(data_19_20[\"publish_date\"].min())\n",
    "print(data_19_20[\"publish_date\"].max())\n",
    "print(data_oct20_dec20[\"publish_date\"].min())\n",
    "print(data_oct20_dec20[\"publish_date\"].max())\n",
    "print(data_dec20[\"publish_date\"].min())\n",
    "print(data_dec20[\"publish_date\"].max())\n",
    "print(data_jan21[\"publish_date\"].min())\n",
    "print(data_jan21[\"publish_date\"].max())\n",
    "len(data_jan21)"
   ]
  },
  {
   "cell_type": "code",
   "execution_count": 64,
   "id": "f0087852-6fd9-4d85-a325-b209208f748e",
   "metadata": {},
   "outputs": [
    {
     "name": "stdout",
     "output_type": "stream",
     "text": [
      "2013-10-01 08:43:00\n",
      "2014-09-30 13:38:46\n",
      "2014-10-02 12:23:52\n",
      "2015-10-01 20:58:03\n",
      "2015-10-01 06:30:58\n",
      "2016-10-01 20:58:00\n",
      "2017-10-01 09:30:00\n",
      "2018-07-23 05:58:57\n"
     ]
    }
   ],
   "source": [
    "print(data_13_14['publish_date'].min())\n",
    "print(data_13_14['publish_date'].max())\n",
    "print(data_14_15['publish_date'].min())\n",
    "print(data_14_15['publish_date'].max())\n",
    "print(data_15_16['publish_date'].min())\n",
    "print(data_15_16['publish_date'].max())\n",
    "print(data_17_18['publish_date'].min())\n",
    "print(data_17_18['publish_date'].max())"
   ]
  },
  {
   "cell_type": "code",
   "execution_count": 69,
   "id": "3fe0c064-c87d-44b4-b733-e8d99dd25fb8",
   "metadata": {},
   "outputs": [
    {
     "data": {
      "text/plain": [
       "885"
      ]
     },
     "execution_count": 69,
     "metadata": {},
     "output_type": "execute_result"
    }
   ],
   "source": [
    "len(data_17_18)"
   ]
  },
  {
   "cell_type": "code",
   "execution_count": 112,
   "id": "e1bd778f-6d0d-4984-b303-b28cf9860832",
   "metadata": {},
   "outputs": [
    {
     "data": {
      "text/plain": [
       "'/Users/trinidadbosch/Desktop/SEDS/Tesis/Data/Media Cloud'"
      ]
     },
     "execution_count": 112,
     "metadata": {},
     "output_type": "execute_result"
    }
   ],
   "source": [
    "%pwd"
   ]
  },
  {
   "cell_type": "code",
   "execution_count": 113,
   "id": "f11c1818-36f1-4609-9599-67d3da26b192",
   "metadata": {},
   "outputs": [],
   "source": [
    "no_clear_dates = pd.read_csv(\"/Users/trinidadbosch/Downloads/mc-no-clear-dates.csv\")"
   ]
  },
  {
   "cell_type": "code",
   "execution_count": 116,
   "id": "eb55a352-81fa-49f2-8cfc-8e63f0bc85db",
   "metadata": {},
   "outputs": [
    {
     "name": "stdout",
     "output_type": "stream",
     "text": [
      "2023-10-16 00:02:12\n",
      "2023-11-18 22:38:08\n"
     ]
    }
   ],
   "source": [
    "no_clear_dates.columns\n",
    "print(no_clear_dates['publish_date'].min())\n",
    "print(no_clear_dates['publish_date'].max())"
   ]
  },
  {
   "cell_type": "markdown",
   "id": "5598c4a1-3428-40cd-b26d-3f8a5cce307a",
   "metadata": {},
   "source": [
    "---\n",
    "## Second Function\n",
    "    Store error and adding sleep\n",
    "---"
   ]
  },
  {
   "cell_type": "code",
   "execution_count": 43,
   "id": "e647ae48-415b-4d88-a589-2e62d39984f5",
   "metadata": {},
   "outputs": [],
   "source": [
    "import time\n",
    "import pandas as pd\n",
    "from newspaper import Article\n",
    "import requests\n",
    "\n",
    "def fetch_articles_new(ids, urls):\n",
    "    article_data = {\n",
    "        'ID': [],\n",
    "        'URL': [],\n",
    "        'Body': [],\n",
    "        'MetaData': [],\n",
    "        'Authors': [],\n",
    "        'Date': [],\n",
    "        'Title': [],\n",
    "        'Tags': [],\n",
    "        'MetaKeywords': [],\n",
    "        'Summary': [],\n",
    "        'Error': [],  # New column for error messages\n",
    "    }\n",
    "\n",
    "    errors = []  # List to store error messages\n",
    "    \n",
    "    start_time = time.time()  # Record the start time\n",
    "    \n",
    "    for id_, url in zip(ids, urls):\n",
    "        try:\n",
    "            article = Article(url)\n",
    "            article.download()\n",
    "            article.parse()\n",
    "            \n",
    "            # Append the parsed article to the dictionary\n",
    "            article_data['ID'].append(id_)\n",
    "            article_data['URL'].append(url)\n",
    "            article_data['Body'].append(article.text)\n",
    "            article_data['MetaData'].append(article.meta_description)\n",
    "            article_data['Authors'].append(article.authors)\n",
    "            article_data['Date'].append(article.publish_date)\n",
    "            article_data['Title'].append(article.title)\n",
    "            article_data['Tags'].append(article.tags)\n",
    "            article_data['MetaKeywords'].append(article.meta_keywords)\n",
    "            \n",
    "            article.nlp()\n",
    "            article_data['Summary'].append(article.summary)\n",
    "            \n",
    "            # No error, so add an empty string to the 'Error' column\n",
    "            article_data['Error'].append('')\n",
    "            \n",
    "            # Introduce a sleep to avoid being blocked\n",
    "            time.sleep(2)  # Sleep for 1 second\n",
    "            \n",
    "        \n",
    "        except requests.exceptions.RequestException as e:\n",
    "            # Handle URL-related exceptions\n",
    "            article_data['Error'].append(str(e))\n",
    "            errors.append(str(e))  # Append error to the list\n",
    "            \n",
    "            # Append 'ID' and 'URL'\n",
    "            article_data['ID'].append(id_)\n",
    "            article_data['URL'].append(url)\n",
    "            \n",
    "            # Append placeholders for other columns\n",
    "            for column in ['Body', 'MetaData', 'Authors', 'Date', 'Title', 'Tags', 'MetaKeywords', 'Summary']:\n",
    "                article_data[column].append('NA')\n",
    "                \n",
    "        except Exception as e:\n",
    "            # Handle other exceptions (e.g., parsing errors)\n",
    "            article_data['Error'].append(str(e))\n",
    "            errors.append(str(e))  # Append error to the list\n",
    "            \n",
    "            # Append 'ID' and 'URL'\n",
    "            article_data['ID'].append(id_)\n",
    "            article_data['URL'].append(url)\n",
    "            \n",
    "            # Append placeholders for other columns\n",
    "            for column in ['Body', 'MetaData', 'Authors', 'Date', 'Title', 'Tags', 'MetaKeywords', 'Summary']:\n",
    "                article_data[column].append('NA')\n",
    "    \n",
    "    end_time = time.time()  # Record the end time\n",
    "    \n",
    "    elapsed_time = end_time - start_time  # Calculate the elapsed time\n",
    "    \n",
    "    print(f\"Time taken to fetch and parse articles: {elapsed_time:.2f} seconds\")\n",
    "    \n",
    "    return pd.DataFrame(article_data), errors"
   ]
  },
  {
   "cell_type": "code",
   "execution_count": 44,
   "id": "6659ed82-d44f-4ce7-8d17-22b928dbb7bb",
   "metadata": {},
   "outputs": [
    {
     "name": "stdout",
     "output_type": "stream",
     "text": [
      "Time taken to fetch and parse articles: 162.99 seconds\n"
     ]
    }
   ],
   "source": [
    "#sample_100 = media_urls.head(100)\n",
    "\n",
    "# test 10 rows the 'stories_id' and 'url' columns\n",
    "idsTest = media_urls['stories_id'].tail(100)\n",
    "urlsTest = media_urls['url'].tail(100)\n",
    "\n",
    "# Call the function\n",
    "result_dfTest, errors = fetch_articles_new(idsTest, urlsTest)"
   ]
  },
  {
   "cell_type": "code",
   "execution_count": 47,
   "id": "857a8fc5-7dfe-4e5b-ae8a-1f64ca643dcf",
   "metadata": {},
   "outputs": [
    {
     "data": {
      "text/plain": [
       "['Article `download()` failed with 403 Client Error: Forbidden for url: https://www.thestreet.com/press-releases/insights-on-the-artificial-intelligence-in-remote-patient-monitoring-global-market-to-2026-featuring-100-plus-aicure-and-cardiomo-among-others-15869392 on URL https://www.thestreet.com/press-releases/insights-on-the-artificial-intelligence-in-remote-patient-monitoring-global-market-to-2026-featuring-100-plus-aicure-and-cardiomo-among-others-15869392',\n",
       " 'Article `download()` failed with 403 Client Error: Forbidden for url: https://www.thestreet.com/press-releases/vectorspace-ai-releases-thematic-crypto-basket-apis-for-exchanges-15869381 on URL https://www.thestreet.com/press-releases/vectorspace-ai-releases-thematic-crypto-basket-apis-for-exchanges-15869381',\n",
       " 'Article `download()` failed with 403 Client Error: Forbidden for url: https://parade.com/1300874/samuelmurrian/matrix-movies-ranked/ on URL https://parade.com/1300874/samuelmurrian/matrix-movies-ranked/',\n",
       " 'Article `download()` failed with 403 Client Error: Forbidden for url: https://www.thestreet.com/press-releases/global-hematology-testing-market-2021-to-2027-featuring-abbott-boule-diagnostics-and-diatron-among-others-15869443 on URL https://www.thestreet.com/press-releases/global-hematology-testing-market-2021-to-2027-featuring-abbott-boule-diagnostics-and-diatron-among-others-15869443',\n",
       " 'Article `download()` failed with 403 Client Error: Max restarts limit reached for url: https://www.forbes.com/sites/joemckendrick/2021/12/22/artificial-intelligence-may-be-just-code-but-its-our-code/ on URL https://www.forbes.com/sites/joemckendrick/2021/12/22/artificial-intelligence-may-be-just-code-but-its-our-code/',\n",
       " 'Article `download()` failed with 403 Client Error: Forbidden for url: https://www.thestreet.com/press-releases/bbva-teams-with-accenture-to-streamline-operations-with-artificial-intelligence-15869533 on URL https://www.thestreet.com/press-releases/bbva-teams-with-accenture-to-streamline-operations-with-artificial-intelligence-15869533',\n",
       " 'Article `download()` failed with 403 Client Error: Forbidden for url: https://www.thestreet.com/press-releases/sold-out-in-23-mins-after-public-mint-age-of-z-1993-nft-surpassed-45-eth-in-trading-volume-15869536 on URL https://www.thestreet.com/press-releases/sold-out-in-23-mins-after-public-mint-age-of-z-1993-nft-surpassed-45-eth-in-trading-volume-15869536',\n",
       " 'Article `download()` failed with 403 Client Error: Max restarts limit reached for url: https://www.forbes.com/sites/drgeraintevans/2021/12/23/the-pandemic-has-forever-accelerated-technology-innovation-for-businesses-and-public-safety/ on URL https://www.forbes.com/sites/drgeraintevans/2021/12/23/the-pandemic-has-forever-accelerated-technology-innovation-for-businesses-and-public-safety/',\n",
       " 'Article `download()` failed with 404 Client Error: Not Found for url: https://www.newsday.com/business/next-gen-investing-1.50457895 on URL https://www.newsday.com/business/next-gen-investing-1.50457895',\n",
       " 'Article `download()` failed with 403 Client Error: Forbidden for url: https://www.newsweek.com/santa-claus-phone-number-kris-kringle-christmas-1654343 on URL https://www.newsweek.com/santa-claus-phone-number-kris-kringle-christmas-1654343',\n",
       " 'Article `download()` failed with 403 Client Error: Forbidden for url: https://www.ibtimes.com/deviantart-intensifies-anti-digital-art-theft-campaign-bares-2022-deviant-protection-3362373?utm_source=Public&utm_medium=Feed&utm_campaign=Distribution on URL https://www.ibtimes.com/deviantart-intensifies-anti-digital-art-theft-campaign-bares-2022-deviant-protection-3362373?utm_source=Public&utm_medium=Feed&utm_campaign=Distribution',\n",
       " 'Article `download()` failed with 404 Client Error: Not Found for url: https://www.sfgate.com/business/article/In-Africa-rescuing-the-languages-that-Western-16724655.php on URL https://www.sfgate.com/business/article/In-Africa-rescuing-the-languages-that-Western-16724655.php',\n",
       " 'Article `download()` failed with 403 Client Error: Forbidden for url: https://www.newsweek.com/santa-claus-phone-number-kris-kringle-christmas-1654343 on URL https://www.newsweek.com/santa-claus-phone-number-kris-kringle-christmas-1654343',\n",
       " 'Article `download()` failed with 404 Client Error: Not Found for url: https://abcnews.go.com/Technology/wireStory/africa-rescuing-languages-western-tech-ignores-81912471 on URL https://abcnews.go.com/Technology/wireStory/africa-rescuing-languages-western-tech-ignores-81912471',\n",
       " 'Article `download()` failed with 403 Client Error: Forbidden for url: https://www.thestreet.com/press-releases/vsblty-names-gary-a-gibson-chief-technology-officer-15869594 on URL https://www.thestreet.com/press-releases/vsblty-names-gary-a-gibson-chief-technology-officer-15869594',\n",
       " 'Article `download()` failed with 403 Client Error: Forbidden for url: https://www.thestreet.com/press-releases/photolithography-equipment-market-size-to-reach-usd-22-90-billion-in-2028-increasing-demand-for-miniaturized-electronic-devices-is-a-significant-factor-driving-industry-demand-says-emergen-research-15869701 on URL https://www.thestreet.com/press-releases/photolithography-equipment-market-size-to-reach-usd-22-90-billion-in-2028-increasing-demand-for-miniaturized-electronic-devices-is-a-significant-factor-driving-industry-demand-says-emergen-research-15869701',\n",
       " \"Article `download()` failed with HTTPSConnectionPool(host='www.seattletimes.com', port=443): Read timed out. (read timeout=7) on URL https://www.seattletimes.com/business/in-africa-rescuing-the-languages-that-western-tech-ignores/?utm_source=RSS&utm_medium=Referral&utm_campaign=RSS_all\",\n",
       " 'Article `download()` failed with 403 Client Error: Forbidden for url: https://www.thestreet.com/press-releases/centogene-wins-award-in-digital-healthcare-innovation-for-artificial-intelligence-ai-platform-leading-biomarker-discovery-15869736 on URL https://www.thestreet.com/press-releases/centogene-wins-award-in-digital-healthcare-innovation-for-artificial-intelligence-ai-platform-leading-biomarker-discovery-15869736',\n",
       " 'Article `download()` failed with 403 Client Error: Forbidden for url: https://www.thestreet.com/press-releases/aisera-s-ticket-ai-helps-organizations-navigate-the-great-resignation-and-ongoing-service-challenges-15869828 on URL https://www.thestreet.com/press-releases/aisera-s-ticket-ai-helps-organizations-navigate-the-great-resignation-and-ongoing-service-challenges-15869828',\n",
       " 'Article `download()` failed with 403 Client Error: Forbidden for url: https://www.thestreet.com/press-releases/e-commerce-platform-brikl-closes-new-funding-round-aimed-at-hypergrowth-15869830 on URL https://www.thestreet.com/press-releases/e-commerce-platform-brikl-closes-new-funding-round-aimed-at-hypergrowth-15869830',\n",
       " 'Article `download()` failed with 403 Client Error: Forbidden for url: https://www.thestreet.com/press-releases/venzee-exceeds-full-year-sales-and-revenue-targets-15869863 on URL https://www.thestreet.com/press-releases/venzee-exceeds-full-year-sales-and-revenue-targets-15869863',\n",
       " 'Article `download()` failed with 403 Client Error: Forbidden for url: https://www.thestreet.com/press-releases/vejii-announces-definitive-purchase-agreement-to-acquire-vedgeco-usa-inc-15869845 on URL https://www.thestreet.com/press-releases/vejii-announces-definitive-purchase-agreement-to-acquire-vedgeco-usa-inc-15869845',\n",
       " 'Article `download()` failed with 403 Client Error: Forbidden for url: https://www.thestreet.com/press-releases/automation-anywhere-to-acquire-fortressiq-to-reimagine-intelligent-automation-15869914 on URL https://www.thestreet.com/press-releases/automation-anywhere-to-acquire-fortressiq-to-reimagine-intelligent-automation-15869914',\n",
       " 'Article `download()` failed with 403 Client Error: Max restarts limit reached for url: https://www.forbes.com/sites/advisor-intelligence/2021/12/23/the-top-10-investment-themes-for-2022/ on URL https://www.forbes.com/sites/advisor-intelligence/2021/12/23/the-top-10-investment-themes-for-2022/',\n",
       " 'Article `download()` failed with 403 Client Error: Max restarts limit reached for url: https://www.forbes.com/sites/lanceeliot/2021/12/23/observant-human-drivers-cleverly-watch-tall-trucks-in-traffic-so-as-to-reveal-up-ahead-roadway-snafus-which-astute-ai-self-driving-cars-ought-to-do-likewise/ on URL https://www.forbes.com/sites/lanceeliot/2021/12/23/observant-human-drivers-cleverly-watch-tall-trucks-in-traffic-so-as-to-reveal-up-ahead-roadway-snafus-which-astute-ai-self-driving-cars-ought-to-do-likewise/',\n",
       " \"Article `download()` failed with HTTPSConnectionPool(host='www.seattletimes.com', port=443): Read timed out. (read timeout=7) on URL https://www.seattletimes.com/business/markets-2021-stocks-soar-ipos-explode-crypto-goes-wild/?utm_source=RSS&utm_medium=Referral&utm_campaign=RSS_all\",\n",
       " 'Article `download()` failed with 404 Client Error: Not Found for url: https://www.sfgate.com/news/article/Markets-2021-Stocks-soar-IPOs-explode-crypto-16725436.php on URL https://www.sfgate.com/news/article/Markets-2021-Stocks-soar-IPOs-explode-crypto-16725436.php',\n",
       " 'Article `download()` failed with 404 Client Error: Not Found for url: https://abcnews.go.com/Business/wireStory/markets-2021-stocks-soar-ipos-explode-crypto-wild-81916491 on URL https://abcnews.go.com/Business/wireStory/markets-2021-stocks-soar-ipos-explode-crypto-wild-81916491',\n",
       " 'Article `download()` failed with 403 Client Error: Max restarts limit reached for url: https://www.forbes.com/sites/bryanpearson/2021/12/23/looking-back-and-ahead-what-weve-learned-from-2021-retail/ on URL https://www.forbes.com/sites/bryanpearson/2021/12/23/looking-back-and-ahead-what-weve-learned-from-2021-retail/',\n",
       " 'Article `download()` failed with 403 Client Error: Forbidden for url: https://www.thestreet.com/press-releases/compass-uol-and-furious-technologies-announce-partnership-to-provide-data-driven-pricing-solutions-15870037 on URL https://www.thestreet.com/press-releases/compass-uol-and-furious-technologies-announce-partnership-to-provide-data-driven-pricing-solutions-15870037',\n",
       " 'Article `download()` failed with 403 Client Error: Forbidden for url: https://www.thestreet.com/press-releases/opportunities-for-unmanned-surface-vehicles-for-the-defense-and-security-market-to-2030-usv-to-be-used-as-connectivity-nodes-between-water-and-air-15870046 on URL https://www.thestreet.com/press-releases/opportunities-for-unmanned-surface-vehicles-for-the-defense-and-security-market-to-2030-usv-to-be-used-as-connectivity-nodes-between-water-and-air-15870046',\n",
       " 'Article `download()` failed with 404 Client Error: Not Found for url: https://www.startribune.com/in-africa-rescuing-the-languages-that-western-tech-ignores/600129806/ on URL https://www.startribune.com/in-africa-rescuing-the-languages-that-western-tech-ignores/600129806/',\n",
       " 'Article `download()` failed with 403 Client Error: Forbidden for url: https://www.thestreet.com/press-releases/global-elevator-control-market-2021-2026-rapid-increase-in-infrastructure-spending-in-developing-economies-is-expected-to-boost-the-elevator-market-15870103 on URL https://www.thestreet.com/press-releases/global-elevator-control-market-2021-2026-rapid-increase-in-infrastructure-spending-in-developing-economies-is-expected-to-boost-the-elevator-market-15870103',\n",
       " 'Article `download()` failed with 404 Client Error: Not Found for url: https://www.startribune.com/markets-2021-stocks-soar-ipos-explode-crypto-goes-wild/600129871/ on URL https://www.startribune.com/markets-2021-stocks-soar-ipos-explode-crypto-goes-wild/600129871/',\n",
       " 'Article `download()` failed with 403 Client Error: Forbidden for url: https://www.thestreet.com/investing/mergers-acquisitions-oracle-amazon on URL https://www.thestreet.com/investing/mergers-acquisitions-oracle-amazon',\n",
       " 'Article `download()` failed with 403 Client Error: Forbidden for url: https://www.thestreet.com/press-releases/intelligent-medicine-acquisition-corp-announces-the-separate-trading-of-its-class-a-ordinary-shares-and-warrants-commencing-december-27-2021-15870136 on URL https://www.thestreet.com/press-releases/intelligent-medicine-acquisition-corp-announces-the-separate-trading-of-its-class-a-ordinary-shares-and-warrants-commencing-december-27-2021-15870136',\n",
       " 'Article `download()` failed with 403 Client Error: Max restarts limit reached for url: https://www.forbes.com/sites/cindygordon/2021/12/23/a-market-to-harness-speech-recognition-artificial-intelligence-ai-innovations-on-the-rise/ on URL https://www.forbes.com/sites/cindygordon/2021/12/23/a-market-to-harness-speech-recognition-artificial-intelligence-ai-innovations-on-the-rise/',\n",
       " 'Article `download()` failed with 403 Client Error: Forbidden for url: https://www.thestreet.com/press-releases/hancom-group-to-participate-in-ces-2022-15870231 on URL https://www.thestreet.com/press-releases/hancom-group-to-participate-in-ces-2022-15870231',\n",
       " \"Article `download()` failed with HTTPSConnectionPool(host='www.seattletimes.com', port=443): Read timed out. (read timeout=7) on URL https://www.seattletimes.com/business/japan-cabinet-oks-record-defense-budget-amid-taiwan-concerns/?utm_source=RSS&utm_medium=Referral&utm_campaign=RSS_all\",\n",
       " 'Article `download()` failed with 404 Client Error: Not Found for url: https://www.sfgate.com/news/article/Japan-Cabinet-OKs-record-defense-budget-amid-16727072.php on URL https://www.sfgate.com/news/article/Japan-Cabinet-OKs-record-defense-budget-amid-16727072.php',\n",
       " 'Article `download()` failed with 403 Client Error: Forbidden for url: https://www.thestreet.com/press-releases/jiangsu-germany-dialogue-2021-was-successfully-held-in-changzhou-china-15870268 on URL https://www.thestreet.com/press-releases/jiangsu-germany-dialogue-2021-was-successfully-held-in-changzhou-china-15870268',\n",
       " 'Article `download()` failed with 403 Client Error: Forbidden for url: https://www.thestreet.com/press-releases/global-digital-lending-platform-markets-2021-2028-rising-adoption-of-ml-blockchain-and-ai-based-digital-lending-platforms-and-solutions-15870276 on URL https://www.thestreet.com/press-releases/global-digital-lending-platform-markets-2021-2028-rising-adoption-of-ml-blockchain-and-ai-based-digital-lending-platforms-and-solutions-15870276',\n",
       " 'Article `download()` failed with 403 Client Error: Forbidden for url: https://www.newsweek.com/jeopardy-had-its-most-eventful-year-yet2021s-memorable-moments-amy-schneider-1661878 on URL https://www.newsweek.com/jeopardy-had-its-most-eventful-year-yet2021s-memorable-moments-amy-schneider-1661878',\n",
       " 'Article `download()` failed with 403 Client Error: Forbidden for url: https://www.newsweek.com/jeopardy-had-its-most-eventful-year-yet2021s-memorable-moments-amy-schneider-1661878 on URL https://www.newsweek.com/jeopardy-had-its-most-eventful-year-yet2021s-memorable-moments-amy-schneider-1661878',\n",
       " 'Article `download()` failed with 403 Client Error: Forbidden for url: https://www.thestreet.com/press-releases/global-video-analytics-markets-report-2021-as-a-service-model-for-emotion-analytics-solutions-to-accelerate-adoption-15870303 on URL https://www.thestreet.com/press-releases/global-video-analytics-markets-report-2021-as-a-service-model-for-emotion-analytics-solutions-to-accelerate-adoption-15870303',\n",
       " 'Article `download()` failed with 403 Client Error: Max restarts limit reached for url: https://www.forbes.com/sites/gilpress/2021/12/24/on-becoming-data-driven-todays-business-imperative/ on URL https://www.forbes.com/sites/gilpress/2021/12/24/on-becoming-data-driven-todays-business-imperative/',\n",
       " 'Article `download()` failed with 403 Client Error: Forbidden for url: https://www.thestreet.com/press-releases/global-outdoor-advertising-market-2021-intensifying-digital-out-of-home-dooh-advertising-market-15870310 on URL https://www.thestreet.com/press-releases/global-outdoor-advertising-market-2021-intensifying-digital-out-of-home-dooh-advertising-market-15870310',\n",
       " 'Article `download()` failed with 403 Client Error: Forbidden for url: https://www.thestreet.com/press-releases/global-video-conferencing-solutions-amp-services-market-report-2021-2026-growing-adoption-in-healthcare-and-education-sectors-and-a-surge-in-cloud-video-conferencing-15870323 on URL https://www.thestreet.com/press-releases/global-video-conferencing-solutions-amp-services-market-report-2021-2026-growing-adoption-in-healthcare-and-education-sectors-and-a-surge-in-cloud-video-conferencing-15870323',\n",
       " 'Article `download()` failed with 403 Client Error: Forbidden for url: https://www.thestreet.com/press-releases/global-talent-management-market-research-report-2021-innovation-culture-is-on-the-rise-because-of-increasing-ai-adoption-in-hr-software-solutions-15870364 on URL https://www.thestreet.com/press-releases/global-talent-management-market-research-report-2021-innovation-culture-is-on-the-rise-because-of-increasing-ai-adoption-in-hr-software-solutions-15870364',\n",
       " 'Article `download()` failed with 403 Client Error: Forbidden for url: https://www.wsj.com/articles/colin-kaepernick-spac-deal-collapses-testing-celebrity-halo-11640373559?mod=rss_markets_main on URL https://www.wsj.com/articles/colin-kaepernick-spac-deal-collapses-testing-celebrity-halo-11640373559?mod=rss_markets_main',\n",
       " 'Article `download()` failed with 403 Client Error: Max restarts limit reached for url: https://www.forbes.com/sites/stevenehrlich/2021/10/06/the-richest-under-30-in-the-world-all-thanks-to-crypto/?sh=133085c23f4d on URL https://www.forbes.com/sites/stevenehrlich/2021/10/06/the-richest-under-30-in-the-world-all-thanks-to-crypto/?sh=133085c23f4d',\n",
       " 'Article `download()` failed with 403 Client Error: Forbidden for url: https://www.wsj.com/articles/colin-kaepernick-spac-deal-collapses-testing-celebrity-halo-11640373559?mod=rss_markets_main on URL https://www.wsj.com/articles/colin-kaepernick-spac-deal-collapses-testing-celebrity-halo-11640373559?mod=rss_markets_main',\n",
       " 'Article `download()` failed with 404 Client Error: Not Found for url: https://www.sfgate.com/news/article/12-year-old-girl-graduates-from-South-Florida-16728267.php on URL https://www.sfgate.com/news/article/12-year-old-girl-graduates-from-South-Florida-16728267.php']"
      ]
     },
     "execution_count": 47,
     "metadata": {},
     "output_type": "execute_result"
    }
   ],
   "source": [
    "len(errors)\n",
    "result_dfTest\n",
    "errors"
   ]
  },
  {
   "cell_type": "code",
   "execution_count": 100,
   "id": "b1d276c8-e1c3-419f-b5d0-d8775f2d28ec",
   "metadata": {
    "collapsed": true,
    "jupyter": {
     "outputs_hidden": true
    },
    "tags": []
   },
   "outputs": [
    {
     "name": "stdout",
     "output_type": "stream",
     "text": [
      "Collecting wayback-news-search\n",
      "  Using cached wayback_news_search-1.0.3-py3-none-any.whl\n",
      "Requirement already satisfied: requests==2.* in /opt/anaconda3/lib/python3.8/site-packages (from wayback-news-search) (2.25.1)\n",
      "Collecting ciso8601==2.2.* (from wayback-news-search)\n",
      "  Using cached ciso8601-2.2.0.tar.gz (18 kB)\n",
      "  Installing build dependencies ... \u001b[?25ldone\n",
      "\u001b[?25h  Getting requirements to build wheel ... \u001b[?25ldone\n",
      "\u001b[?25h  Preparing metadata (pyproject.toml) ... \u001b[?25ldone\n",
      "\u001b[?25hRequirement already satisfied: chardet<5,>=3.0.2 in /opt/anaconda3/lib/python3.8/site-packages (from requests==2.*->wayback-news-search) (4.0.0)\n",
      "Requirement already satisfied: idna<3,>=2.5 in /opt/anaconda3/lib/python3.8/site-packages (from requests==2.*->wayback-news-search) (2.10)\n",
      "Requirement already satisfied: urllib3<1.27,>=1.21.1 in /opt/anaconda3/lib/python3.8/site-packages (from requests==2.*->wayback-news-search) (1.26.4)\n",
      "Requirement already satisfied: certifi>=2017.4.17 in /opt/anaconda3/lib/python3.8/site-packages (from requests==2.*->wayback-news-search) (2020.12.5)\n",
      "Building wheels for collected packages: ciso8601\n",
      "  Building wheel for ciso8601 (pyproject.toml) ... \u001b[?25lerror\n",
      "  \u001b[1;31merror\u001b[0m: \u001b[1msubprocess-exited-with-error\u001b[0m\n",
      "  \n",
      "  \u001b[31m×\u001b[0m \u001b[32mBuilding wheel for ciso8601 \u001b[0m\u001b[1;32m(\u001b[0m\u001b[32mpyproject.toml\u001b[0m\u001b[1;32m)\u001b[0m did not run successfully.\n",
      "  \u001b[31m│\u001b[0m exit code: \u001b[1;36m1\u001b[0m\n",
      "  \u001b[31m╰─>\u001b[0m \u001b[31m[14 lines of output]\u001b[0m\n",
      "  \u001b[31m   \u001b[0m running bdist_wheel\n",
      "  \u001b[31m   \u001b[0m running build\n",
      "  \u001b[31m   \u001b[0m running build_py\n",
      "  \u001b[31m   \u001b[0m creating build\n",
      "  \u001b[31m   \u001b[0m creating build/lib.macosx-10.9-x86_64-cpython-38\n",
      "  \u001b[31m   \u001b[0m creating build/lib.macosx-10.9-x86_64-cpython-38/ciso8601\n",
      "  \u001b[31m   \u001b[0m copying ciso8601/__init__.pyi -> build/lib.macosx-10.9-x86_64-cpython-38/ciso8601\n",
      "  \u001b[31m   \u001b[0m copying ciso8601/py.typed -> build/lib.macosx-10.9-x86_64-cpython-38/ciso8601\n",
      "  \u001b[31m   \u001b[0m running build_ext\n",
      "  \u001b[31m   \u001b[0m building 'ciso8601' extension\n",
      "  \u001b[31m   \u001b[0m creating build/temp.macosx-10.9-x86_64-cpython-38\n",
      "  \u001b[31m   \u001b[0m gcc -Wno-unused-result -Wsign-compare -Wunreachable-code -DNDEBUG -g -fwrapv -O3 -Wall -Wstrict-prototypes -I/opt/anaconda3/include -arch x86_64 -I/opt/anaconda3/include -arch x86_64 -DCISO8601_VERSION=2.2.0 -DCISO8601_CACHING_ENABLED=1 -I/opt/anaconda3/include/python3.8 -c module.c -o build/temp.macosx-10.9-x86_64-cpython-38/module.o\n",
      "  \u001b[31m   \u001b[0m xcrun: error: invalid active developer path (/Library/Developer/CommandLineTools), missing xcrun at: /Library/Developer/CommandLineTools/usr/bin/xcrun\n",
      "  \u001b[31m   \u001b[0m error: command '/usr/bin/gcc' failed with exit code 1\n",
      "  \u001b[31m   \u001b[0m \u001b[31m[end of output]\u001b[0m\n",
      "  \n",
      "  \u001b[1;35mnote\u001b[0m: This error originates from a subprocess, and is likely not a problem with pip.\n",
      "\u001b[31m  ERROR: Failed building wheel for ciso8601\u001b[0m\u001b[31m\n",
      "\u001b[0m\u001b[?25hFailed to build ciso8601\n",
      "\u001b[31mERROR: Could not build wheels for ciso8601, which is required to install pyproject.toml-based projects\u001b[0m\u001b[31m\n",
      "\u001b[0mNote: you may need to restart the kernel to use updated packages.\n"
     ]
    }
   ],
   "source": [
    "pip install wayback-news-search"
   ]
  },
  {
   "cell_type": "code",
   "execution_count": 99,
   "id": "8c0158e2-fd32-4908-81b2-f8b1ffcdc8dc",
   "metadata": {},
   "outputs": [
    {
     "ename": "ModuleNotFoundError",
     "evalue": "No module named 'waybacknews'",
     "output_type": "error",
     "traceback": [
      "\u001b[0;31m---------------------------------------------------------------------------\u001b[0m",
      "\u001b[0;31mModuleNotFoundError\u001b[0m                       Traceback (most recent call last)",
      "\u001b[0;32m<ipython-input-99-ecd47f35e57e>\u001b[0m in \u001b[0;36m<module>\u001b[0;34m\u001b[0m\n\u001b[0;32m----> 1\u001b[0;31m \u001b[0;32mfrom\u001b[0m \u001b[0mwaybacknews\u001b[0m\u001b[0;34m.\u001b[0m\u001b[0msearchapi\u001b[0m \u001b[0;32mimport\u001b[0m \u001b[0mSearchApiClient\u001b[0m\u001b[0;34m\u001b[0m\u001b[0;34m\u001b[0m\u001b[0m\n\u001b[0m\u001b[1;32m      2\u001b[0m \u001b[0;32mimport\u001b[0m \u001b[0mdatetime\u001b[0m \u001b[0;32mas\u001b[0m \u001b[0mdt\u001b[0m\u001b[0;34m\u001b[0m\u001b[0;34m\u001b[0m\u001b[0m\n",
      "\u001b[0;31mModuleNotFoundError\u001b[0m: No module named 'waybacknews'"
     ]
    }
   ],
   "source": [
    "from waybacknews.searchapi import SearchApiClient\n",
    "import datetime as dt"
   ]
  },
  {
   "cell_type": "code",
   "execution_count": null,
   "id": "3a6a105b-2024-4042-b864-0785f6f2eb21",
   "metadata": {},
   "outputs": [],
   "source": [
    "api = SearchApiClient(\"mediacloud\")\n",
    "api.count(\"coronavirus\", dt.datetime(2022, 3, 1), dt.datetime(2022, 4, 1))"
   ]
  }
 ],
 "metadata": {
  "kernelspec": {
   "display_name": "Python 3",
   "language": "python",
   "name": "python3"
  },
  "language_info": {
   "codemirror_mode": {
    "name": "ipython",
    "version": 3
   },
   "file_extension": ".py",
   "mimetype": "text/x-python",
   "name": "python",
   "nbconvert_exporter": "python",
   "pygments_lexer": "ipython3",
   "version": "3.8.8"
  }
 },
 "nbformat": 4,
 "nbformat_minor": 5
}
