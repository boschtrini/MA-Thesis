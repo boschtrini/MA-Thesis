{
 "cells": [
  {
   "cell_type": "markdown",
   "id": "9539c7d3-4a3e-439d-996a-82f27d07d48e",
   "metadata": {},
   "source": [
    "---\n",
    "# General patents overview\n",
    "    Analysis for the description of patents\n",
    "---"
   ]
  },
  {
   "cell_type": "code",
   "execution_count": 11,
   "id": "b99270e2-1259-455f-aca5-9cc0bdb7bf7f",
   "metadata": {},
   "outputs": [],
   "source": [
    "import pandas as pd\n",
    "import matplotlib.pyplot as plt"
   ]
  },
  {
   "cell_type": "code",
   "execution_count": 2,
   "id": "5870fe70-53b6-4298-9146-0e7d67303e86",
   "metadata": {},
   "outputs": [],
   "source": [
    "# read unique count of patents\n",
    "all_patents_unique = pd.read_csv(\"all-patents-unique.csv\")\n",
    "ai_unique = pd.read_csv(\"all-ai-unique.csv\")"
   ]
  },
  {
   "cell_type": "code",
   "execution_count": 12,
   "id": "7dfb3e0d-de23-4e36-9661-04453bd2e394",
   "metadata": {},
   "outputs": [
    {
     "data": {
      "text/plain": [
       "'/Users/trinidad/Desktop/Thesis/MA-Thesis/Google Patents/Scripts'"
      ]
     },
     "execution_count": 12,
     "metadata": {},
     "output_type": "execute_result"
    }
   ],
   "source": [
    "%pwd"
   ]
  },
  {
   "cell_type": "code",
   "execution_count": 3,
   "id": "e7281a29-2002-4245-93d7-306bcf3ddb27",
   "metadata": {},
   "outputs": [],
   "source": [
    "## get columns in the way I need then\n",
    "all_patents_unique['publication_date'] = pd.to_datetime(all_patents_unique['publication_date'], format='%Y%m%d')\n",
    "all_patents_unique['term_count'] = pd.to_numeric(all_patents_unique['unique_family_count'])\n",
    "all_patents_unique['publication_year'] = all_patents_unique['publication_date'].dt.year\n",
    "\n",
    "ai_unique['publication_date'] = pd.to_datetime(ai_unique['publication_date'], format='%Y%m%d')\n",
    "ai_unique['term_count'] = pd.to_numeric(ai_unique['unique_family_count'])\n",
    "ai_unique['publication_year'] = ai_unique['publication_date'].dt.year"
   ]
  },
  {
   "cell_type": "code",
   "execution_count": 4,
   "id": "745c47f9-ab1f-46ef-9e74-5bbe7f61d795",
   "metadata": {},
   "outputs": [],
   "source": [
    "# Group by 'publication_year' and calculate the sum of 'term_count' for each year\n",
    "grouped_all = all_patents_unique.groupby('publication_year')['term_count'].sum().reset_index()\n",
    "grouped_ai = ai_unique.groupby('publication_year')['term_count'].sum().reset_index()"
   ]
  },
  {
   "cell_type": "code",
   "execution_count": 5,
   "id": "2644df14-a306-4e3b-9245-6d7da310e954",
   "metadata": {},
   "outputs": [
    {
     "name": "stdout",
     "output_type": "stream",
     "text": [
      "The total term count is: 141024111\n",
      "The total term count is: 313885\n"
     ]
    }
   ],
   "source": [
    "## nice printing\n",
    "all_unique_total = all_patents_unique['term_count'].sum()\n",
    "ai_unique_total = ai_unique['term_count'].sum()\n",
    "print(f'The total term count is: {all_unique_total}')\n",
    "print(f'The total term count is: {ai_unique_total}')"
   ]
  },
  {
   "cell_type": "code",
   "execution_count": 6,
   "id": "10b51aee-f641-4f12-b644-98618455f131",
   "metadata": {},
   "outputs": [],
   "source": [
    "# Calculate the proportion of AI patents\n",
    "merged_df = pd.merge(grouped_all, grouped_ai, on='publication_year', suffixes=('_total', '_ai'))\n",
    "merged_df['proportion'] = merged_df['term_count_ai'] / merged_df['term_count_total']\n",
    "merged_df['proportion%'] = merged_df['proportion'] * 100"
   ]
  },
  {
   "cell_type": "code",
   "execution_count": 54,
   "id": "3e85cde9-ff5a-4567-9d34-c395f3679a6d",
   "metadata": {
    "collapsed": true,
    "jupyter": {
     "outputs_hidden": true
    },
    "tags": []
   },
   "outputs": [
    {
     "data": {
      "text/html": [
       "<div>\n",
       "<style scoped>\n",
       "    .dataframe tbody tr th:only-of-type {\n",
       "        vertical-align: middle;\n",
       "    }\n",
       "\n",
       "    .dataframe tbody tr th {\n",
       "        vertical-align: top;\n",
       "    }\n",
       "\n",
       "    .dataframe thead th {\n",
       "        text-align: right;\n",
       "    }\n",
       "</style>\n",
       "<table border=\"1\" class=\"dataframe\">\n",
       "  <thead>\n",
       "    <tr style=\"text-align: right;\">\n",
       "      <th></th>\n",
       "      <th>publication_year</th>\n",
       "      <th>term_count_total</th>\n",
       "      <th>term_count_ai</th>\n",
       "      <th>proportion</th>\n",
       "      <th>proportion%</th>\n",
       "    </tr>\n",
       "  </thead>\n",
       "  <tbody>\n",
       "    <tr>\n",
       "      <th>0</th>\n",
       "      <td>1956</td>\n",
       "      <td>181142</td>\n",
       "      <td>1</td>\n",
       "      <td>5.520531e-06</td>\n",
       "      <td>0.000552</td>\n",
       "    </tr>\n",
       "    <tr>\n",
       "      <th>1</th>\n",
       "      <td>1970</td>\n",
       "      <td>475762</td>\n",
       "      <td>1</td>\n",
       "      <td>2.101891e-06</td>\n",
       "      <td>0.000210</td>\n",
       "    </tr>\n",
       "    <tr>\n",
       "      <th>2</th>\n",
       "      <td>1976</td>\n",
       "      <td>1001070</td>\n",
       "      <td>1</td>\n",
       "      <td>9.989311e-07</td>\n",
       "      <td>0.000100</td>\n",
       "    </tr>\n",
       "    <tr>\n",
       "      <th>3</th>\n",
       "      <td>1978</td>\n",
       "      <td>1009414</td>\n",
       "      <td>1</td>\n",
       "      <td>9.906738e-07</td>\n",
       "      <td>0.000099</td>\n",
       "    </tr>\n",
       "    <tr>\n",
       "      <th>4</th>\n",
       "      <td>1979</td>\n",
       "      <td>1018543</td>\n",
       "      <td>1</td>\n",
       "      <td>9.817946e-07</td>\n",
       "      <td>0.000098</td>\n",
       "    </tr>\n",
       "    <tr>\n",
       "      <th>5</th>\n",
       "      <td>1981</td>\n",
       "      <td>1059925</td>\n",
       "      <td>1</td>\n",
       "      <td>9.434630e-07</td>\n",
       "      <td>0.000094</td>\n",
       "    </tr>\n",
       "    <tr>\n",
       "      <th>6</th>\n",
       "      <td>1982</td>\n",
       "      <td>1155776</td>\n",
       "      <td>1</td>\n",
       "      <td>8.652196e-07</td>\n",
       "      <td>0.000087</td>\n",
       "    </tr>\n",
       "    <tr>\n",
       "      <th>7</th>\n",
       "      <td>1983</td>\n",
       "      <td>1179042</td>\n",
       "      <td>6</td>\n",
       "      <td>5.088877e-06</td>\n",
       "      <td>0.000509</td>\n",
       "    </tr>\n",
       "    <tr>\n",
       "      <th>8</th>\n",
       "      <td>1984</td>\n",
       "      <td>1168247</td>\n",
       "      <td>5</td>\n",
       "      <td>4.279917e-06</td>\n",
       "      <td>0.000428</td>\n",
       "    </tr>\n",
       "    <tr>\n",
       "      <th>9</th>\n",
       "      <td>1985</td>\n",
       "      <td>1282034</td>\n",
       "      <td>3</td>\n",
       "      <td>2.340032e-06</td>\n",
       "      <td>0.000234</td>\n",
       "    </tr>\n",
       "    <tr>\n",
       "      <th>10</th>\n",
       "      <td>1986</td>\n",
       "      <td>1331256</td>\n",
       "      <td>9</td>\n",
       "      <td>6.760533e-06</td>\n",
       "      <td>0.000676</td>\n",
       "    </tr>\n",
       "    <tr>\n",
       "      <th>11</th>\n",
       "      <td>1987</td>\n",
       "      <td>1342118</td>\n",
       "      <td>12</td>\n",
       "      <td>8.941092e-06</td>\n",
       "      <td>0.000894</td>\n",
       "    </tr>\n",
       "    <tr>\n",
       "      <th>12</th>\n",
       "      <td>1988</td>\n",
       "      <td>1367753</td>\n",
       "      <td>12</td>\n",
       "      <td>8.773514e-06</td>\n",
       "      <td>0.000877</td>\n",
       "    </tr>\n",
       "    <tr>\n",
       "      <th>13</th>\n",
       "      <td>1989</td>\n",
       "      <td>1385999</td>\n",
       "      <td>61</td>\n",
       "      <td>4.401158e-05</td>\n",
       "      <td>0.004401</td>\n",
       "    </tr>\n",
       "    <tr>\n",
       "      <th>14</th>\n",
       "      <td>1990</td>\n",
       "      <td>1370700</td>\n",
       "      <td>339</td>\n",
       "      <td>2.473189e-04</td>\n",
       "      <td>0.024732</td>\n",
       "    </tr>\n",
       "    <tr>\n",
       "      <th>15</th>\n",
       "      <td>1991</td>\n",
       "      <td>1407658</td>\n",
       "      <td>485</td>\n",
       "      <td>3.445439e-04</td>\n",
       "      <td>0.034454</td>\n",
       "    </tr>\n",
       "    <tr>\n",
       "      <th>16</th>\n",
       "      <td>1992</td>\n",
       "      <td>1529714</td>\n",
       "      <td>877</td>\n",
       "      <td>5.733098e-04</td>\n",
       "      <td>0.057331</td>\n",
       "    </tr>\n",
       "    <tr>\n",
       "      <th>17</th>\n",
       "      <td>1993</td>\n",
       "      <td>1451240</td>\n",
       "      <td>938</td>\n",
       "      <td>6.463438e-04</td>\n",
       "      <td>0.064634</td>\n",
       "    </tr>\n",
       "    <tr>\n",
       "      <th>18</th>\n",
       "      <td>1994</td>\n",
       "      <td>1503101</td>\n",
       "      <td>860</td>\n",
       "      <td>5.721505e-04</td>\n",
       "      <td>0.057215</td>\n",
       "    </tr>\n",
       "    <tr>\n",
       "      <th>19</th>\n",
       "      <td>1995</td>\n",
       "      <td>1524543</td>\n",
       "      <td>797</td>\n",
       "      <td>5.227796e-04</td>\n",
       "      <td>0.052278</td>\n",
       "    </tr>\n",
       "    <tr>\n",
       "      <th>20</th>\n",
       "      <td>1996</td>\n",
       "      <td>1482956</td>\n",
       "      <td>727</td>\n",
       "      <td>4.902371e-04</td>\n",
       "      <td>0.049024</td>\n",
       "    </tr>\n",
       "    <tr>\n",
       "      <th>21</th>\n",
       "      <td>1997</td>\n",
       "      <td>1623640</td>\n",
       "      <td>700</td>\n",
       "      <td>4.311301e-04</td>\n",
       "      <td>0.043113</td>\n",
       "    </tr>\n",
       "    <tr>\n",
       "      <th>22</th>\n",
       "      <td>1998</td>\n",
       "      <td>1748300</td>\n",
       "      <td>718</td>\n",
       "      <td>4.106847e-04</td>\n",
       "      <td>0.041068</td>\n",
       "    </tr>\n",
       "    <tr>\n",
       "      <th>23</th>\n",
       "      <td>1999</td>\n",
       "      <td>1856070</td>\n",
       "      <td>607</td>\n",
       "      <td>3.270351e-04</td>\n",
       "      <td>0.032704</td>\n",
       "    </tr>\n",
       "    <tr>\n",
       "      <th>24</th>\n",
       "      <td>2000</td>\n",
       "      <td>1813160</td>\n",
       "      <td>588</td>\n",
       "      <td>3.242957e-04</td>\n",
       "      <td>0.032430</td>\n",
       "    </tr>\n",
       "    <tr>\n",
       "      <th>25</th>\n",
       "      <td>2001</td>\n",
       "      <td>1983281</td>\n",
       "      <td>557</td>\n",
       "      <td>2.808477e-04</td>\n",
       "      <td>0.028085</td>\n",
       "    </tr>\n",
       "    <tr>\n",
       "      <th>26</th>\n",
       "      <td>2002</td>\n",
       "      <td>2220077</td>\n",
       "      <td>735</td>\n",
       "      <td>3.310696e-04</td>\n",
       "      <td>0.033107</td>\n",
       "    </tr>\n",
       "    <tr>\n",
       "      <th>27</th>\n",
       "      <td>2003</td>\n",
       "      <td>2331700</td>\n",
       "      <td>730</td>\n",
       "      <td>3.130763e-04</td>\n",
       "      <td>0.031308</td>\n",
       "    </tr>\n",
       "    <tr>\n",
       "      <th>28</th>\n",
       "      <td>2004</td>\n",
       "      <td>2487095</td>\n",
       "      <td>731</td>\n",
       "      <td>2.939172e-04</td>\n",
       "      <td>0.029392</td>\n",
       "    </tr>\n",
       "    <tr>\n",
       "      <th>29</th>\n",
       "      <td>2005</td>\n",
       "      <td>2530667</td>\n",
       "      <td>619</td>\n",
       "      <td>2.445995e-04</td>\n",
       "      <td>0.024460</td>\n",
       "    </tr>\n",
       "    <tr>\n",
       "      <th>30</th>\n",
       "      <td>2006</td>\n",
       "      <td>2705407</td>\n",
       "      <td>694</td>\n",
       "      <td>2.565233e-04</td>\n",
       "      <td>0.025652</td>\n",
       "    </tr>\n",
       "    <tr>\n",
       "      <th>31</th>\n",
       "      <td>2007</td>\n",
       "      <td>2763102</td>\n",
       "      <td>709</td>\n",
       "      <td>2.565957e-04</td>\n",
       "      <td>0.025660</td>\n",
       "    </tr>\n",
       "    <tr>\n",
       "      <th>32</th>\n",
       "      <td>2008</td>\n",
       "      <td>2857483</td>\n",
       "      <td>769</td>\n",
       "      <td>2.691180e-04</td>\n",
       "      <td>0.026912</td>\n",
       "    </tr>\n",
       "    <tr>\n",
       "      <th>33</th>\n",
       "      <td>2009</td>\n",
       "      <td>2931057</td>\n",
       "      <td>761</td>\n",
       "      <td>2.596333e-04</td>\n",
       "      <td>0.025963</td>\n",
       "    </tr>\n",
       "    <tr>\n",
       "      <th>34</th>\n",
       "      <td>2010</td>\n",
       "      <td>3136799</td>\n",
       "      <td>903</td>\n",
       "      <td>2.878731e-04</td>\n",
       "      <td>0.028787</td>\n",
       "    </tr>\n",
       "    <tr>\n",
       "      <th>35</th>\n",
       "      <td>2011</td>\n",
       "      <td>3343200</td>\n",
       "      <td>911</td>\n",
       "      <td>2.724934e-04</td>\n",
       "      <td>0.027249</td>\n",
       "    </tr>\n",
       "    <tr>\n",
       "      <th>36</th>\n",
       "      <td>2012</td>\n",
       "      <td>3787271</td>\n",
       "      <td>1194</td>\n",
       "      <td>3.152666e-04</td>\n",
       "      <td>0.031527</td>\n",
       "    </tr>\n",
       "    <tr>\n",
       "      <th>37</th>\n",
       "      <td>2013</td>\n",
       "      <td>4157300</td>\n",
       "      <td>1454</td>\n",
       "      <td>3.497462e-04</td>\n",
       "      <td>0.034975</td>\n",
       "    </tr>\n",
       "    <tr>\n",
       "      <th>38</th>\n",
       "      <td>2014</td>\n",
       "      <td>4337595</td>\n",
       "      <td>1700</td>\n",
       "      <td>3.919223e-04</td>\n",
       "      <td>0.039192</td>\n",
       "    </tr>\n",
       "    <tr>\n",
       "      <th>39</th>\n",
       "      <td>2015</td>\n",
       "      <td>4728229</td>\n",
       "      <td>2471</td>\n",
       "      <td>5.226058e-04</td>\n",
       "      <td>0.052261</td>\n",
       "    </tr>\n",
       "    <tr>\n",
       "      <th>40</th>\n",
       "      <td>2016</td>\n",
       "      <td>5019564</td>\n",
       "      <td>3105</td>\n",
       "      <td>6.185796e-04</td>\n",
       "      <td>0.061858</td>\n",
       "    </tr>\n",
       "    <tr>\n",
       "      <th>41</th>\n",
       "      <td>2017</td>\n",
       "      <td>5411416</td>\n",
       "      <td>6163</td>\n",
       "      <td>1.138889e-03</td>\n",
       "      <td>0.113889</td>\n",
       "    </tr>\n",
       "    <tr>\n",
       "      <th>42</th>\n",
       "      <td>2018</td>\n",
       "      <td>6152215</td>\n",
       "      <td>12894</td>\n",
       "      <td>2.095831e-03</td>\n",
       "      <td>0.209583</td>\n",
       "    </tr>\n",
       "    <tr>\n",
       "      <th>43</th>\n",
       "      <td>2019</td>\n",
       "      <td>6333090</td>\n",
       "      <td>26505</td>\n",
       "      <td>4.185161e-03</td>\n",
       "      <td>0.418516</td>\n",
       "    </tr>\n",
       "    <tr>\n",
       "      <th>44</th>\n",
       "      <td>2020</td>\n",
       "      <td>7174425</td>\n",
       "      <td>44301</td>\n",
       "      <td>6.174850e-03</td>\n",
       "      <td>0.617485</td>\n",
       "    </tr>\n",
       "    <tr>\n",
       "      <th>45</th>\n",
       "      <td>2021</td>\n",
       "      <td>8292521</td>\n",
       "      <td>60188</td>\n",
       "      <td>7.258106e-03</td>\n",
       "      <td>0.725811</td>\n",
       "    </tr>\n",
       "    <tr>\n",
       "      <th>46</th>\n",
       "      <td>2022</td>\n",
       "      <td>7968800</td>\n",
       "      <td>73420</td>\n",
       "      <td>9.213432e-03</td>\n",
       "      <td>0.921343</td>\n",
       "    </tr>\n",
       "    <tr>\n",
       "      <th>47</th>\n",
       "      <td>2023</td>\n",
       "      <td>5681299</td>\n",
       "      <td>64620</td>\n",
       "      <td>1.137416e-02</td>\n",
       "      <td>1.137416</td>\n",
       "    </tr>\n",
       "  </tbody>\n",
       "</table>\n",
       "</div>"
      ],
      "text/plain": [
       "    publication_year  term_count_total  term_count_ai    proportion  \\\n",
       "0               1956            181142              1  5.520531e-06   \n",
       "1               1970            475762              1  2.101891e-06   \n",
       "2               1976           1001070              1  9.989311e-07   \n",
       "3               1978           1009414              1  9.906738e-07   \n",
       "4               1979           1018543              1  9.817946e-07   \n",
       "5               1981           1059925              1  9.434630e-07   \n",
       "6               1982           1155776              1  8.652196e-07   \n",
       "7               1983           1179042              6  5.088877e-06   \n",
       "8               1984           1168247              5  4.279917e-06   \n",
       "9               1985           1282034              3  2.340032e-06   \n",
       "10              1986           1331256              9  6.760533e-06   \n",
       "11              1987           1342118             12  8.941092e-06   \n",
       "12              1988           1367753             12  8.773514e-06   \n",
       "13              1989           1385999             61  4.401158e-05   \n",
       "14              1990           1370700            339  2.473189e-04   \n",
       "15              1991           1407658            485  3.445439e-04   \n",
       "16              1992           1529714            877  5.733098e-04   \n",
       "17              1993           1451240            938  6.463438e-04   \n",
       "18              1994           1503101            860  5.721505e-04   \n",
       "19              1995           1524543            797  5.227796e-04   \n",
       "20              1996           1482956            727  4.902371e-04   \n",
       "21              1997           1623640            700  4.311301e-04   \n",
       "22              1998           1748300            718  4.106847e-04   \n",
       "23              1999           1856070            607  3.270351e-04   \n",
       "24              2000           1813160            588  3.242957e-04   \n",
       "25              2001           1983281            557  2.808477e-04   \n",
       "26              2002           2220077            735  3.310696e-04   \n",
       "27              2003           2331700            730  3.130763e-04   \n",
       "28              2004           2487095            731  2.939172e-04   \n",
       "29              2005           2530667            619  2.445995e-04   \n",
       "30              2006           2705407            694  2.565233e-04   \n",
       "31              2007           2763102            709  2.565957e-04   \n",
       "32              2008           2857483            769  2.691180e-04   \n",
       "33              2009           2931057            761  2.596333e-04   \n",
       "34              2010           3136799            903  2.878731e-04   \n",
       "35              2011           3343200            911  2.724934e-04   \n",
       "36              2012           3787271           1194  3.152666e-04   \n",
       "37              2013           4157300           1454  3.497462e-04   \n",
       "38              2014           4337595           1700  3.919223e-04   \n",
       "39              2015           4728229           2471  5.226058e-04   \n",
       "40              2016           5019564           3105  6.185796e-04   \n",
       "41              2017           5411416           6163  1.138889e-03   \n",
       "42              2018           6152215          12894  2.095831e-03   \n",
       "43              2019           6333090          26505  4.185161e-03   \n",
       "44              2020           7174425          44301  6.174850e-03   \n",
       "45              2021           8292521          60188  7.258106e-03   \n",
       "46              2022           7968800          73420  9.213432e-03   \n",
       "47              2023           5681299          64620  1.137416e-02   \n",
       "\n",
       "    proportion%  \n",
       "0      0.000552  \n",
       "1      0.000210  \n",
       "2      0.000100  \n",
       "3      0.000099  \n",
       "4      0.000098  \n",
       "5      0.000094  \n",
       "6      0.000087  \n",
       "7      0.000509  \n",
       "8      0.000428  \n",
       "9      0.000234  \n",
       "10     0.000676  \n",
       "11     0.000894  \n",
       "12     0.000877  \n",
       "13     0.004401  \n",
       "14     0.024732  \n",
       "15     0.034454  \n",
       "16     0.057331  \n",
       "17     0.064634  \n",
       "18     0.057215  \n",
       "19     0.052278  \n",
       "20     0.049024  \n",
       "21     0.043113  \n",
       "22     0.041068  \n",
       "23     0.032704  \n",
       "24     0.032430  \n",
       "25     0.028085  \n",
       "26     0.033107  \n",
       "27     0.031308  \n",
       "28     0.029392  \n",
       "29     0.024460  \n",
       "30     0.025652  \n",
       "31     0.025660  \n",
       "32     0.026912  \n",
       "33     0.025963  \n",
       "34     0.028787  \n",
       "35     0.027249  \n",
       "36     0.031527  \n",
       "37     0.034975  \n",
       "38     0.039192  \n",
       "39     0.052261  \n",
       "40     0.061858  \n",
       "41     0.113889  \n",
       "42     0.209583  \n",
       "43     0.418516  \n",
       "44     0.617485  \n",
       "45     0.725811  \n",
       "46     0.921343  \n",
       "47     1.137416  "
      ]
     },
     "execution_count": 54,
     "metadata": {},
     "output_type": "execute_result"
    }
   ],
   "source": [
    "merged_df\n",
    "#merged_df.to_excel('patents-all-ai.xlsx', index=False)"
   ]
  },
  {
   "cell_type": "code",
   "execution_count": 8,
   "id": "71a11548-bd62-464d-811a-f1c100057640",
   "metadata": {
    "tags": []
   },
   "outputs": [
    {
     "data": {
      "image/png": "[encoded data removed]",
      "text/plain": [
       "<Figure size 864x432 with 2 Axes>"
      ]
     },
     "metadata": {
      "needs_background": "light"
     },
     "output_type": "display_data"
    }
   ],
   "source": [
    "# Plot the simple count and proportion in a bar plot\n",
    "fig, ax1 = plt.subplots(figsize=(12, 6))\n",
    "\n",
    "color = 'tab:red'\n",
    "ax1.set_xlabel('Publication Year')\n",
    "ax1.set_ylabel('Total Patents', color=color)\n",
    "ax1.bar(merged_df['publication_year'], merged_df['term_count_total'], color=color)\n",
    "ax1.tick_params(axis='y', labelcolor=color)\n",
    "\n",
    "ax2 = ax1.twinx()  # instantiate a second axes that shares the same x-axis\n",
    "color = 'tab:blue'\n",
    "ax2.set_ylabel('Proportion of AI Patents', color=color)\n",
    "ax2.plot(merged_df['publication_year'], merged_df['proportion'], color=color)\n",
    "ax2.tick_params(axis='y', labelcolor=color)\n",
    "\n",
    "fig.tight_layout()  # ensure the two axes are not too close together\n",
    "plt.title('Total Patents and Proportion of AI Patents Over the Years')\n",
    "plt.show()"
   ]
  },
  {
   "cell_type": "code",
   "execution_count": 9,
   "id": "121980ed-a59d-444b-bcdb-58a07edee8e9",
   "metadata": {
    "collapsed": true,
    "jupyter": {
     "outputs_hidden": true
    },
    "tags": []
   },
   "outputs": [
    {
     "data": {
      "image/png": "[encoded data removed]",
      "text/plain": [
       "<Figure size 864x432 with 2 Axes>"
      ]
     },
     "metadata": {
      "needs_background": "light"
     },
     "output_type": "display_data"
    }
   ],
   "source": [
    "import pandas as pd\n",
    "import matplotlib.pyplot as plt\n",
    "\n",
    "# Assuming merged_df is your DataFrame\n",
    "# Make sure to replace this name with your actual DataFrame\n",
    "\n",
    "# Plot the simple count and proportion in a bar plot\n",
    "fig, ax1 = plt.subplots(figsize=(12, 6))\n",
    "\n",
    "color = 'tab:red'\n",
    "ax1.set_xlabel('Publication Year')\n",
    "ax1.set_ylabel('Total Patents', color=color)\n",
    "ax1.bar(merged_df['publication_year'], merged_df['term_count_total'], color=color)\n",
    "ax1.tick_params(axis='y', labelcolor=color)\n",
    "\n",
    "ax2 = ax1.twinx()  # instantiate a second axes that shares the same x-axis\n",
    "color = 'tab:blue'\n",
    "ax2.set_ylabel('Proportion of AI Patents', color=color)\n",
    "ax2.plot(merged_df['publication_year'], merged_df['proportion'], color=color)\n",
    "ax2.tick_params(axis='y', labelcolor=color)\n",
    "\n",
    "# Set x-axis ticks to all unique years\n",
    "ax1.set_xticks(merged_df['publication_year'])\n",
    "ax1.set_xticklabels(merged_df['publication_year'], rotation=90, ha='right')\n",
    "\n",
    "fig.tight_layout()  # ensure the two axes are not too close together\n",
    "plt.title('Total Patents and Proportion of AI Patents Over the Years')\n",
    "plt.show()\n"
   ]
  },
  {
   "cell_type": "code",
   "execution_count": 44,
   "id": "83944f27-c3db-4ca4-b00a-009b55afdc9e",
   "metadata": {},
   "outputs": [
    {
     "data": {
      "text/plain": [
       "-323721"
      ]
     },
     "execution_count": 44,
     "metadata": {},
     "output_type": "execute_result"
    }
   ],
   "source": [
    "7968800-8292521"
   ]
  },
  {
   "cell_type": "code",
   "execution_count": 10,
   "id": "6af523f5-0680-49e5-8688-f9805bc31881",
   "metadata": {},
   "outputs": [
    {
     "data": {
      "text/plain": [
       "'/Users/trinidadbosch/Desktop/SEDS/Tesis/Code/master-thesis/tesis/patents-bigquery-analysis'"
      ]
     },
     "execution_count": 10,
     "metadata": {},
     "output_type": "execute_result"
    }
   ],
   "source": [
    "%pwd"
   ]
  },
  {
   "cell_type": "code",
   "execution_count": 11,
   "id": "8af56155-24ef-45b1-9f7b-cfa71bbc1f06",
   "metadata": {},
   "outputs": [
    {
     "name": "stdout",
     "output_type": "stream",
     "text": [
      "/Users/trinidadbosch/Desktop/SEDS/Tesis/Code/master-thesis/tesis\n"
     ]
    }
   ],
   "source": [
    "%cd .."
   ]
  },
  {
   "cell_type": "code",
   "execution_count": 12,
   "id": "edcfe72d-7be0-4745-b04d-e11ff99606a4",
   "metadata": {},
   "outputs": [
    {
     "name": "stdout",
     "output_type": "stream",
     "text": [
      "\u001b[34m__pycache__\u001b[m\u001b[m/               \u001b[34minclude\u001b[m\u001b[m/\n",
      "\u001b[34mbin\u001b[m\u001b[m/                       \u001b[34mlib\u001b[m\u001b[m/\n",
      "\u001b[34mdata\u001b[m\u001b[m/                      \u001b[34mpatents-bigquery-analysis\u001b[m\u001b[m/\n",
      "\u001b[34metc\u001b[m\u001b[m/                       pyvenv.cfg\n",
      "\u001b[34mexpansion-query\u001b[m\u001b[m/           requirements.txt\n"
     ]
    }
   ],
   "source": [
    "%ls"
   ]
  },
  {
   "cell_type": "code",
   "execution_count": 13,
   "id": "f679e9b9-038e-4f63-913e-464d1d8f3cac",
   "metadata": {},
   "outputs": [
    {
     "name": "stdout",
     "output_type": "stream",
     "text": [
      "/Users/trinidadbosch/Desktop/SEDS/Tesis/Code/master-thesis/tesis/data\n"
     ]
    }
   ],
   "source": [
    "%cd data"
   ]
  },
  {
   "cell_type": "code",
   "execution_count": 13,
   "id": "36f7ea22-4d34-46ca-8a97-e1f484392bd0",
   "metadata": {},
   "outputs": [],
   "source": [
    "patents = pd.read_pickle(\"/Users/trinidad/Desktop/Thesis/MA-Thesis/Google Patents/ai_total_.pkl\")"
   ]
  },
  {
   "cell_type": "code",
   "execution_count": 15,
   "id": "7fedd7b4-1048-4b78-a45e-29bf47761d1f",
   "metadata": {},
   "outputs": [
    {
     "data": {
      "text/plain": [
       "Index(['publication_number', 'family_id', 'title_localized',\n",
       "       'abstract_localized', 'publication_date', 'country_code', 'filing_date',\n",
       "       'grant_date'],\n",
       "      dtype='object')"
      ]
     },
     "execution_count": 15,
     "metadata": {},
     "output_type": "execute_result"
    }
   ],
   "source": [
    "patents.columns\n",
    "##publication_date should be earlier than grant_date"
   ]
  },
  {
   "cell_type": "code",
   "execution_count": 17,
   "id": "14ad7002-580b-4c09-9e62-7e4f295ad7b9",
   "metadata": {},
   "outputs": [],
   "source": [
    "## remove duplicates before start the analysis\n",
    "\n",
    "all_data = patents.drop_duplicates('family_id', )"
   ]
  },
  {
   "cell_type": "code",
   "execution_count": 28,
   "id": "e7831acf-5523-4356-a8d7-03d33c2f1b36",
   "metadata": {
    "scrolled": true
   },
   "outputs": [
    {
     "data": {
      "text/html": [
       "<div>\n",
       "<style scoped>\n",
       "    .dataframe tbody tr th:only-of-type {\n",
       "        vertical-align: middle;\n",
       "    }\n",
       "\n",
       "    .dataframe tbody tr th {\n",
       "        vertical-align: top;\n",
       "    }\n",
       "\n",
       "    .dataframe thead th {\n",
       "        text-align: right;\n",
       "    }\n",
       "</style>\n",
       "<table border=\"1\" class=\"dataframe\">\n",
       "  <thead>\n",
       "    <tr style=\"text-align: right;\">\n",
       "      <th></th>\n",
       "      <th>publication_number</th>\n",
       "      <th>family_id</th>\n",
       "      <th>title_localized</th>\n",
       "      <th>abstract_localized</th>\n",
       "      <th>publication_date</th>\n",
       "      <th>country_code</th>\n",
       "      <th>filing_date</th>\n",
       "      <th>grant_date</th>\n",
       "      <th>publication_year</th>\n",
       "    </tr>\n",
       "  </thead>\n",
       "  <tbody>\n",
       "    <tr>\n",
       "      <th>0</th>\n",
       "      <td>US-11403485-B2</td>\n",
       "      <td>80741606</td>\n",
       "      <td>[{'text': 'Use of a saliency map to train a co...</td>\n",
       "      <td>[{'text': 'Methods and systems for training an...</td>\n",
       "      <td>2022-08-02</td>\n",
       "      <td>US</td>\n",
       "      <td>20200921</td>\n",
       "      <td>20220802</td>\n",
       "      <td>2022</td>\n",
       "    </tr>\n",
       "    <tr>\n",
       "      <th>1</th>\n",
       "      <td>US-11322073-B2</td>\n",
       "      <td>69884999</td>\n",
       "      <td>[{'text': 'Method and apparatus for dynamicall...</td>\n",
       "      <td>[{'text': 'An information handling system oper...</td>\n",
       "      <td>2022-05-03</td>\n",
       "      <td>US</td>\n",
       "      <td>20180921</td>\n",
       "      <td>20220503</td>\n",
       "      <td>2022</td>\n",
       "    </tr>\n",
       "    <tr>\n",
       "      <th>2</th>\n",
       "      <td>US-11481882-B2</td>\n",
       "      <td>75909571</td>\n",
       "      <td>[{'text': 'Systems and methods for selective r...</td>\n",
       "      <td>[{'text': 'Exemplary embodiments are directed ...</td>\n",
       "      <td>2022-10-25</td>\n",
       "      <td>US</td>\n",
       "      <td>20201118</td>\n",
       "      <td>20221025</td>\n",
       "      <td>2022</td>\n",
       "    </tr>\n",
       "    <tr>\n",
       "      <th>3</th>\n",
       "      <td>US-11170292-B2</td>\n",
       "      <td>65720469</td>\n",
       "      <td>[{'text': 'Static random-access memory for dee...</td>\n",
       "      <td>[{'text': 'A static random-access memory (SRAM...</td>\n",
       "      <td>2021-11-09</td>\n",
       "      <td>US</td>\n",
       "      <td>20180921</td>\n",
       "      <td>20211109</td>\n",
       "      <td>2021</td>\n",
       "    </tr>\n",
       "    <tr>\n",
       "      <th>4</th>\n",
       "      <td>US-11521712-B2</td>\n",
       "      <td>64274900</td>\n",
       "      <td>[{'text': 'Computational method for classifyin...</td>\n",
       "      <td>[{'text': 'A computer-implemented method for p...</td>\n",
       "      <td>2022-12-06</td>\n",
       "      <td>US</td>\n",
       "      <td>20180518</td>\n",
       "      <td>20221206</td>\n",
       "      <td>2022</td>\n",
       "    </tr>\n",
       "    <tr>\n",
       "      <th>...</th>\n",
       "      <td>...</td>\n",
       "      <td>...</td>\n",
       "      <td>...</td>\n",
       "      <td>...</td>\n",
       "      <td>...</td>\n",
       "      <td>...</td>\n",
       "      <td>...</td>\n",
       "      <td>...</td>\n",
       "      <td>...</td>\n",
       "    </tr>\n",
       "    <tr>\n",
       "      <th>428875</th>\n",
       "      <td>CN-210175927-U</td>\n",
       "      <td>69829028</td>\n",
       "      <td>[{'text': '物联网无线智能矩阵单元体', 'language': 'zh', 't...</td>\n",
       "      <td>[{'text': '本申请提供一种物联网无线智能矩阵单元体，包括框体、传输装置、动力装置、...</td>\n",
       "      <td>2020-03-24</td>\n",
       "      <td>CN</td>\n",
       "      <td>20190221</td>\n",
       "      <td>20200324</td>\n",
       "      <td>2020</td>\n",
       "    </tr>\n",
       "    <tr>\n",
       "      <th>428876</th>\n",
       "      <td>CN-213072915-U</td>\n",
       "      <td>75563337</td>\n",
       "      <td>[{'text': '巡检机器人以及巡检系统', 'language': 'zh', 'tr...</td>\n",
       "      <td>[{'text': '本申请公开了一种巡检机器人以及巡检系统，该巡检机器人包括实时采集巡检点...</td>\n",
       "      <td>2021-04-27</td>\n",
       "      <td>CN</td>\n",
       "      <td>20201028</td>\n",
       "      <td>20210427</td>\n",
       "      <td>2021</td>\n",
       "    </tr>\n",
       "    <tr>\n",
       "      <th>428883</th>\n",
       "      <td>WO-2022129867-A1</td>\n",
       "      <td>74188926</td>\n",
       "      <td>[{'text': 'Microscopie automatisée', 'language...</td>\n",
       "      <td>[{'text': 'L&amp;#39;invention concerne un procédé...</td>\n",
       "      <td>2022-06-23</td>\n",
       "      <td>WO</td>\n",
       "      <td>20211207</td>\n",
       "      <td>0</td>\n",
       "      <td>2022</td>\n",
       "    </tr>\n",
       "    <tr>\n",
       "      <th>428889</th>\n",
       "      <td>WO-2022133623-A1</td>\n",
       "      <td>82157063</td>\n",
       "      <td>[{'text': 'Accelerated scale-out performance o...</td>\n",
       "      <td>[{'text': 'System, apparatus and method (300) ...</td>\n",
       "      <td>2022-06-30</td>\n",
       "      <td>WO</td>\n",
       "      <td>20201224</td>\n",
       "      <td>0</td>\n",
       "      <td>2022</td>\n",
       "    </tr>\n",
       "    <tr>\n",
       "      <th>428894</th>\n",
       "      <td>WO-2020140612-A1</td>\n",
       "      <td>66861465</td>\n",
       "      <td>[{'text': '基于卷积神经网络的意图识别方法、装置、设备及介质', 'languag...</td>\n",
       "      <td>[{'text': 'The present application discloses a...</td>\n",
       "      <td>2020-07-09</td>\n",
       "      <td>WO</td>\n",
       "      <td>20191111</td>\n",
       "      <td>0</td>\n",
       "      <td>2020</td>\n",
       "    </tr>\n",
       "  </tbody>\n",
       "</table>\n",
       "<p>277452 rows × 9 columns</p>\n",
       "</div>"
      ],
      "text/plain": [
       "       publication_number  family_id  \\\n",
       "0          US-11403485-B2   80741606   \n",
       "1          US-11322073-B2   69884999   \n",
       "2          US-11481882-B2   75909571   \n",
       "3          US-11170292-B2   65720469   \n",
       "4          US-11521712-B2   64274900   \n",
       "...                   ...        ...   \n",
       "428875     CN-210175927-U   69829028   \n",
       "428876     CN-213072915-U   75563337   \n",
       "428883   WO-2022129867-A1   74188926   \n",
       "428889   WO-2022133623-A1   82157063   \n",
       "428894   WO-2020140612-A1   66861465   \n",
       "\n",
       "                                          title_localized  \\\n",
       "0       [{'text': 'Use of a saliency map to train a co...   \n",
       "1       [{'text': 'Method and apparatus for dynamicall...   \n",
       "2       [{'text': 'Systems and methods for selective r...   \n",
       "3       [{'text': 'Static random-access memory for dee...   \n",
       "4       [{'text': 'Computational method for classifyin...   \n",
       "...                                                   ...   \n",
       "428875  [{'text': '物联网无线智能矩阵单元体', 'language': 'zh', 't...   \n",
       "428876  [{'text': '巡检机器人以及巡检系统', 'language': 'zh', 'tr...   \n",
       "428883  [{'text': 'Microscopie automatisée', 'language...   \n",
       "428889  [{'text': 'Accelerated scale-out performance o...   \n",
       "428894  [{'text': '基于卷积神经网络的意图识别方法、装置、设备及介质', 'languag...   \n",
       "\n",
       "                                       abstract_localized publication_date  \\\n",
       "0       [{'text': 'Methods and systems for training an...       2022-08-02   \n",
       "1       [{'text': 'An information handling system oper...       2022-05-03   \n",
       "2       [{'text': 'Exemplary embodiments are directed ...       2022-10-25   \n",
       "3       [{'text': 'A static random-access memory (SRAM...       2021-11-09   \n",
       "4       [{'text': 'A computer-implemented method for p...       2022-12-06   \n",
       "...                                                   ...              ...   \n",
       "428875  [{'text': '本申请提供一种物联网无线智能矩阵单元体，包括框体、传输装置、动力装置、...       2020-03-24   \n",
       "428876  [{'text': '本申请公开了一种巡检机器人以及巡检系统，该巡检机器人包括实时采集巡检点...       2021-04-27   \n",
       "428883  [{'text': 'L&#39;invention concerne un procédé...       2022-06-23   \n",
       "428889  [{'text': 'System, apparatus and method (300) ...       2022-06-30   \n",
       "428894  [{'text': 'The present application discloses a...       2020-07-09   \n",
       "\n",
       "       country_code  filing_date  grant_date  publication_year  \n",
       "0                US     20200921    20220802              2022  \n",
       "1                US     20180921    20220503              2022  \n",
       "2                US     20201118    20221025              2022  \n",
       "3                US     20180921    20211109              2021  \n",
       "4                US     20180518    20221206              2022  \n",
       "...             ...          ...         ...               ...  \n",
       "428875           CN     20190221    20200324              2020  \n",
       "428876           CN     20201028    20210427              2021  \n",
       "428883           WO     20211207           0              2022  \n",
       "428889           WO     20201224           0              2022  \n",
       "428894           WO     20191111           0              2020  \n",
       "\n",
       "[277452 rows x 9 columns]"
      ]
     },
     "execution_count": 28,
     "metadata": {},
     "output_type": "execute_result"
    }
   ],
   "source": [
    "all_data"
   ]
  },
  {
   "cell_type": "code",
   "execution_count": 19,
   "id": "e5a0d835-c2fb-44f9-ab19-f5e1efd99e2e",
   "metadata": {
    "tags": []
   },
   "outputs": [],
   "source": [
    "all_data['publication_date'] = pd.to_datetime(all_data['publication_date'], format='%Y%m%d')\n",
    "all_data['family_id'] = pd.to_numeric(all_data['family_id'])\n",
    "all_data['publication_year'] = all_data['publication_date'].dt.year"
   ]
  },
  {
   "cell_type": "code",
   "execution_count": 20,
   "id": "70396fe5-ea93-4e9a-89f2-0d252e2dce2f",
   "metadata": {
    "tags": []
   },
   "outputs": [
    {
     "name": "stdout",
     "output_type": "stream",
     "text": [
      "1901-11-02 00:00:00\n",
      "2023-10-19 00:00:00\n"
     ]
    }
   ],
   "source": [
    "print(all_data['publication_date'].min())\n",
    "print(all_data['publication_date'].max())"
   ]
  },
  {
   "cell_type": "code",
   "execution_count": 58,
   "id": "c6ac5eaa-298f-4eae-b9f6-512ae3530423",
   "metadata": {},
   "outputs": [],
   "source": [
    "#all_data"
   ]
  },
  {
   "cell_type": "code",
   "execution_count": 21,
   "id": "5d9ca44c-eba4-4eb1-93e5-5e70106fc12c",
   "metadata": {},
   "outputs": [
    {
     "name": "stdout",
     "output_type": "stream",
     "text": [
      "All patents data: \n",
      "min date: 1901-11-02 00:00:00 \n",
      "max date: 2023-10-19 00:00:00\n"
     ]
    }
   ],
   "source": [
    "min_date = all_data['publication_date'].min()\n",
    "max_date = all_data['publication_date'].max()\n",
    "print(f\"All patents data: \\nmin date: {min_date} \\nmax date: {max_date}\")"
   ]
  },
  {
   "cell_type": "code",
   "execution_count": 29,
   "id": "a7b7e26f-1aa2-4f66-becb-362aa900164d",
   "metadata": {},
   "outputs": [
    {
     "data": {
      "text/plain": [
       "publication_year\n",
       "1901        1\n",
       "1948        1\n",
       "1952        1\n",
       "1956        1\n",
       "1970        1\n",
       "1974        1\n",
       "1976        2\n",
       "1977        1\n",
       "1978        2\n",
       "1979        1\n",
       "1980        1\n",
       "1981        3\n",
       "1982        1\n",
       "1983        6\n",
       "1984        7\n",
       "1985        9\n",
       "1986       22\n",
       "1987       34\n",
       "1988       43\n",
       "1989       89\n",
       "1990      282\n",
       "1991      422\n",
       "1992      724\n",
       "1993      778\n",
       "1994      695\n",
       "1995      582\n",
       "1996      524\n",
       "1997      445\n",
       "1998      445\n",
       "1999      404\n",
       "2000      394\n",
       "2001      408\n",
       "2002      533\n",
       "2003      495\n",
       "2004      496\n",
       "2005      418\n",
       "2006      463\n",
       "2007      437\n",
       "2008      534\n",
       "2009      634\n",
       "2010      691\n",
       "2011      681\n",
       "2012     1051\n",
       "2013     1142\n",
       "2014     1369\n",
       "2015     2033\n",
       "2016     2674\n",
       "2017     5298\n",
       "2018    10828\n",
       "2019    21522\n",
       "2020    35271\n",
       "2021    53344\n",
       "2022    69714\n",
       "2023    61494\n",
       "Name: count, dtype: int64"
      ]
     },
     "execution_count": 29,
     "metadata": {},
     "output_type": "execute_result"
    }
   ],
   "source": [
    "all_data['publication_year'].value_counts().sort_index()"
   ]
  },
  {
   "cell_type": "code",
   "execution_count": 22,
   "id": "9831851c-66ce-49e4-9f8f-8279eeb995c8",
   "metadata": {},
   "outputs": [
    {
     "data": {
      "image/png": "[encoded data removed]",
      "text/plain": [
       "<Figure size 1000x600 with 1 Axes>"
      ]
     },
     "metadata": {},
     "output_type": "display_data"
    }
   ],
   "source": [
    "import matplotlib.pyplot as plt\n",
    "\n",
    "publication_year_counts = all_data['publication_year'].value_counts().sort_index()\n",
    "\n",
    "# Plotting the bar chart\n",
    "plt.figure(figsize=(10, 6))\n",
    "publication_year_counts.plot(kind='bar', color='green')\n",
    "plt.title('Publication Year Distribution')\n",
    "plt.xlabel('Publication Year')\n",
    "plt.ylabel('Count')\n",
    "plt.show()"
   ]
  },
  {
   "cell_type": "code",
   "execution_count": 23,
   "id": "17a3fbed-c878-480b-a1d4-bc9d3231d628",
   "metadata": {
    "tags": []
   },
   "outputs": [
    {
     "name": "stdout",
     "output_type": "stream",
     "text": [
      "Country Code Counts:\n",
      "country_code\n",
      "CN    205688\n",
      "US     30457\n",
      "KR     15131\n",
      "WO     10321\n",
      "JP      7195\n",
      "       ...  \n",
      "SI         1\n",
      "HR         1\n",
      "MD         1\n",
      "CS         1\n",
      "SU         1\n",
      "Name: count, Length: 61, dtype: int64\n"
     ]
    }
   ],
   "source": [
    "# Counting occurrences of each country code\n",
    "country_code_counts = all_data['country_code'].value_counts()\n",
    "\n",
    "# Displaying the counts\n",
    "print(\"Country Code Counts:\")\n",
    "print(country_code_counts)"
   ]
  },
  {
   "cell_type": "code",
   "execution_count": 24,
   "id": "73100567-aaf9-4161-bb6b-69d13abff29e",
   "metadata": {},
   "outputs": [
    {
     "data": {
      "image/png": "[encoded data removed]",
      "text/plain": [
       "<Figure size 1000x600 with 1 Axes>"
      ]
     },
     "metadata": {},
     "output_type": "display_data"
    }
   ],
   "source": [
    "# Counting occurrences of each country code\n",
    "country_code_counts = all_data['country_code'].value_counts()\n",
    "\n",
    "# Selecting the top 10 country codes\n",
    "top_10_country_codes = country_code_counts.head(10)\n",
    "\n",
    "# Plotting the bar chart for the top 10 country codes\n",
    "plt.figure(figsize=(10, 6))\n",
    "bars = top_10_country_codes.plot(kind='bar', color='orange')\n",
    "plt.title('Top 10 Country Code Distribution')\n",
    "plt.xlabel('Country Code')\n",
    "plt.ylabel('Count')\n",
    "\n",
    "# Adding values on top of the bars\n",
    "for bar, count in zip(bars.patches, top_10_country_codes.values):\n",
    "    plt.text(bar.get_x() + bar.get_width() / 2 - 0.1, bar.get_height() + 0.05, str(count), ha='center', va='bottom')\n",
    "\n",
    "plt.show()\n",
    "\n",
    "## https://register.epo.org/help?lng=en&topic=countrycodes"
   ]
  },
  {
   "cell_type": "markdown",
   "id": "663f77ed-b997-44fe-a48a-9d0140721696",
   "metadata": {},
   "source": [
    "---\n",
    "## Last 10 years of data\n",
    "    As most of AI patents were developed in the last decade, I'm zooming the analysis to check if there's any big difference on the publication countries\n",
    "   \n",
    "---"
   ]
  },
  {
   "cell_type": "code",
   "execution_count": 25,
   "id": "1994edb2-6edf-4c51-9e06-fab8918a21f0",
   "metadata": {},
   "outputs": [],
   "source": [
    "# Filter data for the last 10 years\n",
    "last_10_years_data = all_data[all_data['publication_date'].dt.year >= (pd.to_datetime('today').year - 10)]\n",
    "\n",
    "# Counting occurrences of each country code in the last 10 years\n",
    "country_code_counts_last_10_years = last_10_years_data['country_code'].value_counts()\n",
    "\n",
    "# Selecting the top 10 country codes\n",
    "top_10_country_codes_last_10_years = country_code_counts_last_10_years.head(10)"
   ]
  },
  {
   "cell_type": "code",
   "execution_count": 26,
   "id": "067c6cfe-2847-42d7-9f10-163cb1dce1a9",
   "metadata": {},
   "outputs": [
    {
     "data": {
      "text/plain": [
       "Timestamp('2014-01-01 00:00:00')"
      ]
     },
     "execution_count": 26,
     "metadata": {},
     "output_type": "execute_result"
    }
   ],
   "source": [
    "last_10_years_data['publication_date'].min()"
   ]
  },
  {
   "cell_type": "code",
   "execution_count": 27,
   "id": "d04f165a-059f-4b8c-9a2d-c70c9fb0262c",
   "metadata": {},
   "outputs": [
    {
     "data": {
      "image/png": "[encoded data removed]",
      "text/plain": [
       "<Figure size 1000x600 with 1 Axes>"
      ]
     },
     "metadata": {},
     "output_type": "display_data"
    }
   ],
   "source": [
    "# Plotting the bar chart for the top 10 country codes in the last 10 years with values displayed on top\n",
    "plt.figure(figsize=(10, 6))\n",
    "bars = top_10_country_codes_last_10_years.plot(kind='bar', color='lightblue')\n",
    "plt.title('Top 10 Country Code Distribution in the Last 10 Years')\n",
    "plt.xlabel('Country Code')\n",
    "plt.ylabel('Count')\n",
    "\n",
    "# Adding values on top of the bars\n",
    "for bar, count in zip(bars.patches, top_10_country_codes_last_10_years.values):\n",
    "    plt.text(bar.get_x() + bar.get_width() / 2 - 0.1, bar.get_height() + 0.05, str(count), ha='center', va='bottom')\n",
    "\n",
    "plt.show()"
   ]
  },
  {
   "cell_type": "code",
   "execution_count": null,
   "id": "f1812121-7eaa-4a2e-9b01-25eee4961a13",
   "metadata": {},
   "outputs": [],
   "source": []
  }
 ],
 "metadata": {
  "kernelspec": {
   "display_name": "Python 3 (ipykernel)",
   "language": "python",
   "name": "python3"
  },
  "language_info": {
   "codemirror_mode": {
    "name": "ipython",
    "version": 3
   },
   "file_extension": ".py",
   "mimetype": "text/x-python",
   "name": "python",
   "nbconvert_exporter": "python",
   "pygments_lexer": "ipython3",
   "version": "3.11.5"
  }
 },
 "nbformat": 4,
 "nbformat_minor": 5
}
